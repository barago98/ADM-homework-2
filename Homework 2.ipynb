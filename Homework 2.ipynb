{
 "cells": [
  {
   "cell_type": "markdown",
   "metadata": {},
   "source": [
    "# Research questions"
   ]
  },
  {
   "cell_type": "markdown",
   "metadata": {},
   "source": [
    "## Exploratory Data Analysis"
   ]
  },
  {
   "cell_type": "markdown",
   "metadata": {},
   "source": [
    "###  RQ1"
   ]
  },
  {
   "cell_type": "markdown",
   "metadata": {},
   "source": [
    "A marketing funnel describes your customer’s journey with your e-commerce. It may involve different stages, beginning when someone learns about your business, when he/she visits your website for the first time, to the purchasing stage, marketing funnels map routes to conversion and beyond. Suppose your funnel involves just three simple steps: 1) view, 2) cart, 3) purchase. Which is the rate of complete funnels?\n",
    "1) What’s the operation users repeat more on average within a session? Produce a plot that shows the average number of times users perform each operation (view/removefromchart etc etc).\n",
    "\n",
    "2) How many times, on average, a user views a product before adding it to the cart?\n",
    "\n",
    "3) What’s the probability that products added once to the cart are effectively bought?\n",
    "\n",
    "4) What’s the average time an item stays in the cart before being removed?\n",
    "\n",
    "5) How much time passes on average between the first view time and a purchase/addition to cart?"
   ]
  },
  {
   "cell_type": "code",
   "execution_count": 26,
   "metadata": {},
   "outputs": [],
   "source": [
    "import pandas as pd\n",
    "import matplotlib.pyplot as plt\n",
    "import operator"
   ]
  },
  {
   "cell_type": "code",
   "execution_count": 2,
   "metadata": {},
   "outputs": [],
   "source": [
    "oct_dataset= pd.read_csv(\"2019-Oct.csv\", header=\"infer\",\n",
    "                        parse_dates =[\"event_time\"],\n",
    "                        date_parser=pd.to_datetime)"
   ]
  },
  {
   "cell_type": "code",
   "execution_count": 3,
   "metadata": {},
   "outputs": [],
   "source": [
    "nov_dataset= pd.read_csv(\"2019-Nov.csv\", header=\"infer\",\n",
    "                        parse_dates =[\"event_time\"],\n",
    "                        date_parser=pd.to_datetime)"
   ]
  },
  {
   "cell_type": "code",
   "execution_count": 4,
   "metadata": {
    "scrolled": true
   },
   "outputs": [],
   "source": [
    "#faccio concat outer join tra i due dataset\n",
    "dataset=pd.concat([oct_dataset,nov_dataset],ignore_index=True, axis=0)\n"
   ]
  },
  {
   "cell_type": "code",
   "execution_count": 5,
   "metadata": {},
   "outputs": [
    {
     "data": {
      "text/plain": [
       "0.015095741554015692"
      ]
     },
     "execution_count": 5,
     "metadata": {},
     "output_type": "execute_result"
    }
   ],
   "source": [
    "#rate of complete funnels =purchases/ number of total operations\n",
    "\n",
    "len(dataset[dataset.event_type==\"purchase\"])/len(dataset)\n"
   ]
  },
  {
   "cell_type": "markdown",
   "metadata": {},
   "source": [
    "#### 1) What’s the operation users repeat more on average within a session? Produce a plot that shows the average number of times users perform each operation (view/removefromchart etc etc). "
   ]
  },
  {
   "cell_type": "code",
   "execution_count": 6,
   "metadata": {},
   "outputs": [
    {
     "data": {
      "text/plain": [
       "event_type\n",
       "cart          3955434\n",
       "purchase      1659788\n",
       "view        104335509\n",
       "Name: user_session, dtype: int64"
      ]
     },
     "execution_count": 6,
     "metadata": {},
     "output_type": "execute_result"
    }
   ],
   "source": [
    "dataset.groupby([\"event_type\"]).user_session.count()\n",
    "#  the operation users repeat more on average within a session is the view"
   ]
  },
  {
   "cell_type": "code",
   "execution_count": 7,
   "metadata": {},
   "outputs": [
    {
     "data": {
      "image/png": "[encoded data removed]",
      "text/plain": [
       "<Figure size 432x432 with 1 Axes>"
      ]
     },
     "metadata": {},
     "output_type": "display_data"
    }
   ],
   "source": [
    "my_labels = [\"View\", \"Cart\", \"Purchase\",]\n",
    "my_colors = [\"green\",\"yellow\",\"red\"]\n",
    "my_explode=[0.4,0.2,0.2]\n",
    "plt.figure(figsize=(6,6))\n",
    "plt.pie(dataset[\"event_type\"].value_counts(),\n",
    "        labels=my_labels,\n",
    "        colors = my_colors,\n",
    "        explode=my_explode,\n",
    "        autopct=\"%.2f%%\")\n",
    "plt.legend(bbox_to_anchor=(1,1))\n",
    "plt.title(\"types of events\", fontsize=20)\n",
    "plt.show()"
   ]
  },
  {
   "cell_type": "markdown",
   "metadata": {},
   "source": [
    "##### 2) How many times, on average, a user views a product before adding it to the cart?"
   ]
  },
  {
   "cell_type": "code",
   "execution_count": 8,
   "metadata": {},
   "outputs": [],
   "source": [
    "view_dataset=dataset[dataset.event_type==\"view\"]\n",
    "purchase_dataset=dataset[dataset.event_type==\"purchase\"]\n",
    "cart_dataset=dataset[dataset.event_type==\"cart\"]\n",
    "#creating datasets with just cart,purchase,view event types"
   ]
  },
  {
   "cell_type": "code",
   "execution_count": 9,
   "metadata": {
    "collapsed": true
   },
   "outputs": [
    {
     "data": {
      "text/plain": [
       "19.626222130091676"
      ]
     },
     "execution_count": 9,
     "metadata": {},
     "output_type": "execute_result"
    }
   ],
   "source": [
    "view_dataset.groupby([\"user_id\"]).event_type.count().mean()\n",
    "#how many views a user does on average"
   ]
  },
  {
   "cell_type": "code",
   "execution_count": 10,
   "metadata": {
    "collapsed": true
   },
   "outputs": [
    {
     "data": {
      "text/plain": [
       "3.7523215761199014"
      ]
     },
     "execution_count": 10,
     "metadata": {},
     "output_type": "execute_result"
    }
   ],
   "source": [
    "cart_dataset.groupby([\"user_id\"]).event_type.count().mean()\n",
    "#how many items a user puts in cart on average"
   ]
  },
  {
   "cell_type": "code",
   "execution_count": 11,
   "metadata": {},
   "outputs": [
    {
     "data": {
      "text/plain": [
       "5.230421149134618"
      ]
     },
     "execution_count": 11,
     "metadata": {},
     "output_type": "execute_result"
    }
   ],
   "source": [
    "(view_dataset.groupby([\"user_id\"]).event_type.count().mean())/(cart_dataset.groupby([\"user_id\"]).event_type.count().mean())\n",
    "#how many views on average a user do before putting an item in cart "
   ]
  },
  {
   "cell_type": "markdown",
   "metadata": {},
   "source": [
    "##### 3) What’s the probability that products added once to the cart are effectively bought?"
   ]
  },
  {
   "cell_type": "code",
   "execution_count": 12,
   "metadata": {
    "collapsed": true
   },
   "outputs": [
    {
     "data": {
      "text/plain": [
       "event_type\n",
       "cart    3955446\n",
       "Name: event_type, dtype: int64"
      ]
     },
     "execution_count": 12,
     "metadata": {},
     "output_type": "execute_result"
    }
   ],
   "source": [
    "cart_dataset.groupby([\"event_type\"]).event_type.count()\n",
    "#number of times a product has been added to the cart"
   ]
  },
  {
   "cell_type": "code",
   "execution_count": 13,
   "metadata": {
    "collapsed": true
   },
   "outputs": [
    {
     "data": {
      "text/plain": [
       "event_type\n",
       "purchase    1659788\n",
       "Name: event_type, dtype: int64"
      ]
     },
     "execution_count": 13,
     "metadata": {},
     "output_type": "execute_result"
    }
   ],
   "source": [
    "purchase_dataset.groupby([\"event_type\"]).event_type.count()\n",
    "#number of times a product has been bought"
   ]
  },
  {
   "cell_type": "code",
   "execution_count": 14,
   "metadata": {},
   "outputs": [
    {
     "data": {
      "text/plain": [
       "0.41962094792850163"
      ]
     },
     "execution_count": 14,
     "metadata": {},
     "output_type": "execute_result"
    }
   ],
   "source": [
    "(int(purchase_dataset.groupby([\"event_type\"]).event_type.count()))/(int(cart_dataset.groupby([\"event_type\"]).event_type.count()))\n",
    "#(probability) times that a product has been bought once was added to the cart"
   ]
  },
  {
   "cell_type": "markdown",
   "metadata": {},
   "source": [
    "##### 4)What’s the average time an item stays in the cart before being removed?\n",
    "an item is removed form the cart if it's bought or if the session ended without being bought(we assume that the cart has \"no memory\", a new user session of the same user id have nothing inside the cart)"
   ]
  },
  {
   "cell_type": "code",
   "execution_count": 15,
   "metadata": {
    "collapsed": true
   },
   "outputs": [
    {
     "data": {
      "text/html": [
       "<div>\n",
       "<style scoped>\n",
       "    .dataframe tbody tr th:only-of-type {\n",
       "        vertical-align: middle;\n",
       "    }\n",
       "\n",
       "    .dataframe tbody tr th {\n",
       "        vertical-align: top;\n",
       "    }\n",
       "\n",
       "    .dataframe thead th {\n",
       "        text-align: right;\n",
       "    }\n",
       "</style>\n",
       "<table border=\"1\" class=\"dataframe\">\n",
       "  <thead>\n",
       "    <tr style=\"text-align: right;\">\n",
       "      <th></th>\n",
       "      <th>user_session</th>\n",
       "      <th>product_id</th>\n",
       "      <th>event_time</th>\n",
       "    </tr>\n",
       "  </thead>\n",
       "  <tbody>\n",
       "    <tr>\n",
       "      <th>0</th>\n",
       "      <td>00000042-3e3f-42f9-810d-f3d264139c50</td>\n",
       "      <td>54900011</td>\n",
       "      <td>2019-10-18 10:55:20+00:00</td>\n",
       "    </tr>\n",
       "    <tr>\n",
       "      <th>1</th>\n",
       "      <td>00000056-a206-40dd-b174-a072550fa38c</td>\n",
       "      <td>1003312</td>\n",
       "      <td>2019-10-31 06:28:47+00:00</td>\n",
       "    </tr>\n",
       "    <tr>\n",
       "      <th>2</th>\n",
       "      <td>00000056-a206-40dd-b174-a072550fa38c</td>\n",
       "      <td>1004858</td>\n",
       "      <td>2019-10-31 06:26:58+00:00</td>\n",
       "    </tr>\n",
       "    <tr>\n",
       "      <th>3</th>\n",
       "      <td>00000056-a206-40dd-b174-a072550fa38c</td>\n",
       "      <td>1005104</td>\n",
       "      <td>2019-10-31 06:28:21+00:00</td>\n",
       "    </tr>\n",
       "    <tr>\n",
       "      <th>4</th>\n",
       "      <td>00000056-a206-40dd-b174-a072550fa38c</td>\n",
       "      <td>1005105</td>\n",
       "      <td>2019-10-31 06:25:30+00:00</td>\n",
       "    </tr>\n",
       "    <tr>\n",
       "      <th>...</th>\n",
       "      <td>...</td>\n",
       "      <td>...</td>\n",
       "      <td>...</td>\n",
       "    </tr>\n",
       "    <tr>\n",
       "      <th>69746994</th>\n",
       "      <td>fffffbbe-9f76-403b-b17c-e7c68c48ea1c</td>\n",
       "      <td>1005174</td>\n",
       "      <td>2019-11-17 09:43:04+00:00</td>\n",
       "    </tr>\n",
       "    <tr>\n",
       "      <th>69746995</th>\n",
       "      <td>fffffc65-7ce9-435c-8b72-1d9f7062fe77</td>\n",
       "      <td>16000642</td>\n",
       "      <td>2019-10-11 06:10:54+00:00</td>\n",
       "    </tr>\n",
       "    <tr>\n",
       "      <th>69746996</th>\n",
       "      <td>fffffc65-7ce9-435c-8b72-1d9f7062fe77</td>\n",
       "      <td>16000914</td>\n",
       "      <td>2019-10-11 06:10:23+00:00</td>\n",
       "    </tr>\n",
       "    <tr>\n",
       "      <th>69746997</th>\n",
       "      <td>fffffd01-5f95-4916-b2dd-491c603d6c9c</td>\n",
       "      <td>1004856</td>\n",
       "      <td>2019-11-17 14:12:46+00:00</td>\n",
       "    </tr>\n",
       "    <tr>\n",
       "      <th>69746998</th>\n",
       "      <td>fffffde2-4522-4b44-8a32-510c55739ba1</td>\n",
       "      <td>14700096</td>\n",
       "      <td>2019-11-30 10:29:57+00:00</td>\n",
       "    </tr>\n",
       "  </tbody>\n",
       "</table>\n",
       "<p>69746999 rows × 3 columns</p>\n",
       "</div>"
      ],
      "text/plain": [
       "                                  user_session  product_id  \\\n",
       "0         00000042-3e3f-42f9-810d-f3d264139c50    54900011   \n",
       "1         00000056-a206-40dd-b174-a072550fa38c     1003312   \n",
       "2         00000056-a206-40dd-b174-a072550fa38c     1004858   \n",
       "3         00000056-a206-40dd-b174-a072550fa38c     1005104   \n",
       "4         00000056-a206-40dd-b174-a072550fa38c     1005105   \n",
       "...                                        ...         ...   \n",
       "69746994  fffffbbe-9f76-403b-b17c-e7c68c48ea1c     1005174   \n",
       "69746995  fffffc65-7ce9-435c-8b72-1d9f7062fe77    16000642   \n",
       "69746996  fffffc65-7ce9-435c-8b72-1d9f7062fe77    16000914   \n",
       "69746997  fffffd01-5f95-4916-b2dd-491c603d6c9c     1004856   \n",
       "69746998  fffffde2-4522-4b44-8a32-510c55739ba1    14700096   \n",
       "\n",
       "                        event_time  \n",
       "0        2019-10-18 10:55:20+00:00  \n",
       "1        2019-10-31 06:28:47+00:00  \n",
       "2        2019-10-31 06:26:58+00:00  \n",
       "3        2019-10-31 06:28:21+00:00  \n",
       "4        2019-10-31 06:25:30+00:00  \n",
       "...                            ...  \n",
       "69746994 2019-11-17 09:43:04+00:00  \n",
       "69746995 2019-10-11 06:10:54+00:00  \n",
       "69746996 2019-10-11 06:10:23+00:00  \n",
       "69746997 2019-11-17 14:12:46+00:00  \n",
       "69746998 2019-11-30 10:29:57+00:00  \n",
       "\n",
       "[69746999 rows x 3 columns]"
      ]
     },
     "execution_count": 15,
     "metadata": {},
     "output_type": "execute_result"
    }
   ],
   "source": [
    "last_op_dataset=dataset.groupby([\"user_session\",\"product_id\"],as_index=False).event_time.last()\n",
    "last_op_dataset\n",
    "#to define when a user session ended we see the time of the last operation"
   ]
  },
  {
   "cell_type": "code",
   "execution_count": 16,
   "metadata": {
    "collapsed": true
   },
   "outputs": [
    {
     "data": {
      "text/html": [
       "<div>\n",
       "<style scoped>\n",
       "    .dataframe tbody tr th:only-of-type {\n",
       "        vertical-align: middle;\n",
       "    }\n",
       "\n",
       "    .dataframe tbody tr th {\n",
       "        vertical-align: top;\n",
       "    }\n",
       "\n",
       "    .dataframe thead th {\n",
       "        text-align: right;\n",
       "    }\n",
       "</style>\n",
       "<table border=\"1\" class=\"dataframe\">\n",
       "  <thead>\n",
       "    <tr style=\"text-align: right;\">\n",
       "      <th></th>\n",
       "      <th>event_time_x</th>\n",
       "      <th>event_type</th>\n",
       "      <th>product_id</th>\n",
       "      <th>category_id</th>\n",
       "      <th>category_code</th>\n",
       "      <th>brand</th>\n",
       "      <th>price</th>\n",
       "      <th>user_id</th>\n",
       "      <th>user_session</th>\n",
       "      <th>event_time_y</th>\n",
       "    </tr>\n",
       "  </thead>\n",
       "  <tbody>\n",
       "    <tr>\n",
       "      <th>0</th>\n",
       "      <td>2019-10-01 00:05:14+00:00</td>\n",
       "      <td>cart</td>\n",
       "      <td>5100816</td>\n",
       "      <td>2053013553375346967</td>\n",
       "      <td>NaN</td>\n",
       "      <td>xiaomi</td>\n",
       "      <td>29.51</td>\n",
       "      <td>550121407</td>\n",
       "      <td>6f623695-9581-4633-813f-825b8760c7ae</td>\n",
       "      <td>2019-10-01 00:05:29+00:00</td>\n",
       "    </tr>\n",
       "    <tr>\n",
       "      <th>1</th>\n",
       "      <td>2019-10-01 00:09:33+00:00</td>\n",
       "      <td>cart</td>\n",
       "      <td>1002524</td>\n",
       "      <td>2053013555631882655</td>\n",
       "      <td>electronics.smartphone</td>\n",
       "      <td>apple</td>\n",
       "      <td>515.67</td>\n",
       "      <td>524325294</td>\n",
       "      <td>0b74a829-f9d7-4654-b5b0-35bc9822c238</td>\n",
       "      <td>2019-10-01 00:10:42+00:00</td>\n",
       "    </tr>\n",
       "    <tr>\n",
       "      <th>2</th>\n",
       "      <td>2019-10-01 00:11:00+00:00</td>\n",
       "      <td>cart</td>\n",
       "      <td>4804056</td>\n",
       "      <td>2053013554658804075</td>\n",
       "      <td>electronics.audio.headphone</td>\n",
       "      <td>apple</td>\n",
       "      <td>161.98</td>\n",
       "      <td>533624186</td>\n",
       "      <td>e5ac3caa-e6d5-4d6b-ae06-2c18cd9ca683</td>\n",
       "      <td>2019-10-01 00:11:00+00:00</td>\n",
       "    </tr>\n",
       "    <tr>\n",
       "      <th>3</th>\n",
       "      <td>2019-10-01 02:17:59+00:00</td>\n",
       "      <td>cart</td>\n",
       "      <td>1004833</td>\n",
       "      <td>2053013555631882655</td>\n",
       "      <td>electronics.smartphone</td>\n",
       "      <td>samsung</td>\n",
       "      <td>174.76</td>\n",
       "      <td>536415846</td>\n",
       "      <td>685b5b42-f597-4a69-ab4c-ef96a30bc454</td>\n",
       "      <td>2019-10-01 02:29:58+00:00</td>\n",
       "    </tr>\n",
       "    <tr>\n",
       "      <th>4</th>\n",
       "      <td>2019-10-01 02:19:36+00:00</td>\n",
       "      <td>cart</td>\n",
       "      <td>1005003</td>\n",
       "      <td>2053013555631882655</td>\n",
       "      <td>electronics.smartphone</td>\n",
       "      <td>huawei</td>\n",
       "      <td>258.21</td>\n",
       "      <td>513632293</td>\n",
       "      <td>f2cc68f7-39d1-4a50-9dcf-f2a0921bdfda</td>\n",
       "      <td>2019-10-01 02:33:09+00:00</td>\n",
       "    </tr>\n",
       "    <tr>\n",
       "      <th>...</th>\n",
       "      <td>...</td>\n",
       "      <td>...</td>\n",
       "      <td>...</td>\n",
       "      <td>...</td>\n",
       "      <td>...</td>\n",
       "      <td>...</td>\n",
       "      <td>...</td>\n",
       "      <td>...</td>\n",
       "      <td>...</td>\n",
       "      <td>...</td>\n",
       "    </tr>\n",
       "    <tr>\n",
       "      <th>3955441</th>\n",
       "      <td>2019-11-30 23:58:55+00:00</td>\n",
       "      <td>cart</td>\n",
       "      <td>3701309</td>\n",
       "      <td>2053013565983425517</td>\n",
       "      <td>appliances.environment.vacuum</td>\n",
       "      <td>polaris</td>\n",
       "      <td>89.32</td>\n",
       "      <td>543733099</td>\n",
       "      <td>a65116f4-ac53-4a41-ad68-6606788e674c</td>\n",
       "      <td>2019-11-30 23:59:44+00:00</td>\n",
       "    </tr>\n",
       "    <tr>\n",
       "      <th>3955442</th>\n",
       "      <td>2019-11-30 23:59:26+00:00</td>\n",
       "      <td>cart</td>\n",
       "      <td>33000529</td>\n",
       "      <td>2055909009252155819</td>\n",
       "      <td>NaN</td>\n",
       "      <td>luminarc</td>\n",
       "      <td>25.28</td>\n",
       "      <td>576652951</td>\n",
       "      <td>30024390-3fee-430d-9892-72560a5b9948</td>\n",
       "      <td>2019-11-30 23:59:26+00:00</td>\n",
       "    </tr>\n",
       "    <tr>\n",
       "      <th>3955443</th>\n",
       "      <td>2019-11-30 23:59:29+00:00</td>\n",
       "      <td>cart</td>\n",
       "      <td>26205399</td>\n",
       "      <td>2053013563693335403</td>\n",
       "      <td>NaN</td>\n",
       "      <td>NaN</td>\n",
       "      <td>179.16</td>\n",
       "      <td>553345124</td>\n",
       "      <td>58c692ff-c7a9-4e35-9ec4-58598f1940e0</td>\n",
       "      <td>2019-11-30 23:59:44+00:00</td>\n",
       "    </tr>\n",
       "    <tr>\n",
       "      <th>3955444</th>\n",
       "      <td>2019-11-30 23:59:44+00:00</td>\n",
       "      <td>cart</td>\n",
       "      <td>3701309</td>\n",
       "      <td>2053013565983425517</td>\n",
       "      <td>appliances.environment.vacuum</td>\n",
       "      <td>polaris</td>\n",
       "      <td>89.32</td>\n",
       "      <td>543733099</td>\n",
       "      <td>a65116f4-ac53-4a41-ad68-6606788e674c</td>\n",
       "      <td>2019-11-30 23:59:44+00:00</td>\n",
       "    </tr>\n",
       "    <tr>\n",
       "      <th>3955445</th>\n",
       "      <td>2019-11-30 23:59:52+00:00</td>\n",
       "      <td>cart</td>\n",
       "      <td>26400248</td>\n",
       "      <td>2053013563651392361</td>\n",
       "      <td>NaN</td>\n",
       "      <td>NaN</td>\n",
       "      <td>132.31</td>\n",
       "      <td>535135317</td>\n",
       "      <td>61792a26-672f-4e61-9832-7b63bb1714db</td>\n",
       "      <td>2019-11-30 23:59:52+00:00</td>\n",
       "    </tr>\n",
       "  </tbody>\n",
       "</table>\n",
       "<p>3955446 rows × 10 columns</p>\n",
       "</div>"
      ],
      "text/plain": [
       "                     event_time_x event_type  product_id          category_id  \\\n",
       "0       2019-10-01 00:05:14+00:00       cart     5100816  2053013553375346967   \n",
       "1       2019-10-01 00:09:33+00:00       cart     1002524  2053013555631882655   \n",
       "2       2019-10-01 00:11:00+00:00       cart     4804056  2053013554658804075   \n",
       "3       2019-10-01 02:17:59+00:00       cart     1004833  2053013555631882655   \n",
       "4       2019-10-01 02:19:36+00:00       cart     1005003  2053013555631882655   \n",
       "...                           ...        ...         ...                  ...   \n",
       "3955441 2019-11-30 23:58:55+00:00       cart     3701309  2053013565983425517   \n",
       "3955442 2019-11-30 23:59:26+00:00       cart    33000529  2055909009252155819   \n",
       "3955443 2019-11-30 23:59:29+00:00       cart    26205399  2053013563693335403   \n",
       "3955444 2019-11-30 23:59:44+00:00       cart     3701309  2053013565983425517   \n",
       "3955445 2019-11-30 23:59:52+00:00       cart    26400248  2053013563651392361   \n",
       "\n",
       "                         category_code     brand   price    user_id  \\\n",
       "0                                  NaN    xiaomi   29.51  550121407   \n",
       "1               electronics.smartphone     apple  515.67  524325294   \n",
       "2          electronics.audio.headphone     apple  161.98  533624186   \n",
       "3               electronics.smartphone   samsung  174.76  536415846   \n",
       "4               electronics.smartphone    huawei  258.21  513632293   \n",
       "...                                ...       ...     ...        ...   \n",
       "3955441  appliances.environment.vacuum   polaris   89.32  543733099   \n",
       "3955442                            NaN  luminarc   25.28  576652951   \n",
       "3955443                            NaN       NaN  179.16  553345124   \n",
       "3955444  appliances.environment.vacuum   polaris   89.32  543733099   \n",
       "3955445                            NaN       NaN  132.31  535135317   \n",
       "\n",
       "                                 user_session              event_time_y  \n",
       "0        6f623695-9581-4633-813f-825b8760c7ae 2019-10-01 00:05:29+00:00  \n",
       "1        0b74a829-f9d7-4654-b5b0-35bc9822c238 2019-10-01 00:10:42+00:00  \n",
       "2        e5ac3caa-e6d5-4d6b-ae06-2c18cd9ca683 2019-10-01 00:11:00+00:00  \n",
       "3        685b5b42-f597-4a69-ab4c-ef96a30bc454 2019-10-01 02:29:58+00:00  \n",
       "4        f2cc68f7-39d1-4a50-9dcf-f2a0921bdfda 2019-10-01 02:33:09+00:00  \n",
       "...                                       ...                       ...  \n",
       "3955441  a65116f4-ac53-4a41-ad68-6606788e674c 2019-11-30 23:59:44+00:00  \n",
       "3955442  30024390-3fee-430d-9892-72560a5b9948 2019-11-30 23:59:26+00:00  \n",
       "3955443  58c692ff-c7a9-4e35-9ec4-58598f1940e0 2019-11-30 23:59:44+00:00  \n",
       "3955444  a65116f4-ac53-4a41-ad68-6606788e674c 2019-11-30 23:59:44+00:00  \n",
       "3955445  61792a26-672f-4e61-9832-7b63bb1714db 2019-11-30 23:59:52+00:00  \n",
       "\n",
       "[3955446 rows x 10 columns]"
      ]
     },
     "execution_count": 16,
     "metadata": {},
     "output_type": "execute_result"
    }
   ],
   "source": [
    "#merge between dataset with just the cart type event and the last operation made in unser_session\n",
    "n_dataset=pd.merge(cart_dataset,last_op_dataset,how=\"left\",on=[\"user_session\",\"product_id\"])\n",
    "n_dataset"
   ]
  },
  {
   "cell_type": "code",
   "execution_count": 17,
   "metadata": {},
   "outputs": [],
   "source": [
    "n_dataset[\"time_elapse\"]=(n_dataset.event_time_y-n_dataset.event_time_x)\n"
   ]
  },
  {
   "cell_type": "code",
   "execution_count": 18,
   "metadata": {
    "collapsed": true
   },
   "outputs": [
    {
     "data": {
      "text/plain": [
       "Timedelta('0 days 00:04:15.657227528')"
      ]
     },
     "execution_count": 18,
     "metadata": {},
     "output_type": "execute_result"
    }
   ],
   "source": [
    "(n_dataset.time_elapse.sum())/len(n_dataset) \n",
    "#time between put in cart and end of a session (aka non bought items)"
   ]
  },
  {
   "cell_type": "code",
   "execution_count": 19,
   "metadata": {},
   "outputs": [],
   "source": [
    "b_dataset=pd.merge(cart_dataset,purchase_dataset,how=\"inner\",on=[\"user_session\",\"product_id\"])\n"
   ]
  },
  {
   "cell_type": "code",
   "execution_count": 20,
   "metadata": {},
   "outputs": [],
   "source": [
    "b_dataset[\"time_elapse\"]=(b_dataset.event_time_y-b_dataset.event_time_x)\n"
   ]
  },
  {
   "cell_type": "code",
   "execution_count": 21,
   "metadata": {
    "collapsed": true
   },
   "outputs": [
    {
     "data": {
      "text/plain": [
       "Timedelta('0 days 00:00:49.913569534')"
      ]
     },
     "execution_count": 21,
     "metadata": {},
     "output_type": "execute_result"
    }
   ],
   "source": [
    "(b_dataset.time_elapse.sum())/len(b_dataset)"
   ]
  },
  {
   "cell_type": "code",
   "execution_count": 22,
   "metadata": {
    "scrolled": true
   },
   "outputs": [
    {
     "data": {
      "text/plain": [
       "Timedelta('0 days 00:05:05.570797062')"
      ]
     },
     "execution_count": 22,
     "metadata": {},
     "output_type": "execute_result"
    }
   ],
   "source": [
    "((n_dataset.time_elapse.sum())/len(n_dataset))+((b_dataset.time_elapse.sum())/len(b_dataset)) \n",
    "#average time an item stay in the cart before being removed(puchased or not purchased)"
   ]
  },
  {
   "cell_type": "markdown",
   "metadata": {},
   "source": [
    "##### 5)How much time passes on average between the first view time and a purchase/addition to cart?"
   ]
  },
  {
   "cell_type": "code",
   "execution_count": 23,
   "metadata": {
    "scrolled": false
   },
   "outputs": [],
   "source": [
    "#dataset with the time of the first operation per user session\n",
    "first_dataset=dataset.groupby([\"user_session\",\"user_id\"],as_index=False).event_time.first()"
   ]
  },
  {
   "cell_type": "code",
   "execution_count": 24,
   "metadata": {
    "collapsed": true
   },
   "outputs": [
    {
     "name": "stderr",
     "output_type": "stream",
     "text": [
      "<ipython-input-24-76bdc9cf2335>:2: UserWarning: Boolean Series key will be reindexed to match DataFrame index.\n",
      "  first_view_dataset=first_dataset[dataset.event_type==\"view\"]\n"
     ]
    }
   ],
   "source": [
    "#dataset with the time of the first view per user session\n",
    "first_view_dataset=first_dataset[dataset.event_type==\"view\"]"
   ]
  },
  {
   "cell_type": "code",
   "execution_count": 25,
   "metadata": {
    "collapsed": true
   },
   "outputs": [
    {
     "data": {
      "text/html": [
       "<div>\n",
       "<style scoped>\n",
       "    .dataframe tbody tr th:only-of-type {\n",
       "        vertical-align: middle;\n",
       "    }\n",
       "\n",
       "    .dataframe tbody tr th {\n",
       "        vertical-align: top;\n",
       "    }\n",
       "\n",
       "    .dataframe thead th {\n",
       "        text-align: right;\n",
       "    }\n",
       "</style>\n",
       "<table border=\"1\" class=\"dataframe\">\n",
       "  <thead>\n",
       "    <tr style=\"text-align: right;\">\n",
       "      <th></th>\n",
       "      <th>user_session</th>\n",
       "      <th>user_id</th>\n",
       "      <th>event_time_x</th>\n",
       "      <th>event_time_y</th>\n",
       "      <th>event_type</th>\n",
       "      <th>product_id</th>\n",
       "      <th>category_id</th>\n",
       "      <th>category_code</th>\n",
       "      <th>brand</th>\n",
       "      <th>price</th>\n",
       "    </tr>\n",
       "  </thead>\n",
       "  <tbody>\n",
       "    <tr>\n",
       "      <th>0</th>\n",
       "      <td>00000083-8816-4d58-a9b8-f52f54186edc</td>\n",
       "      <td>546521725</td>\n",
       "      <td>2019-10-06 11:24:45+00:00</td>\n",
       "      <td>2019-10-06 11:33:54+00:00</td>\n",
       "      <td>cart</td>\n",
       "      <td>1004870</td>\n",
       "      <td>2053013555631882655</td>\n",
       "      <td>electronics.smartphone</td>\n",
       "      <td>samsung</td>\n",
       "      <td>289.52</td>\n",
       "    </tr>\n",
       "    <tr>\n",
       "      <th>1</th>\n",
       "      <td>000001fd-1f89-45e8-a3ce-fe3218cabfad</td>\n",
       "      <td>560486342</td>\n",
       "      <td>2019-10-25 08:30:42+00:00</td>\n",
       "      <td>2019-10-25 08:34:23+00:00</td>\n",
       "      <td>cart</td>\n",
       "      <td>1004834</td>\n",
       "      <td>2053013555631882655</td>\n",
       "      <td>electronics.smartphone</td>\n",
       "      <td>samsung</td>\n",
       "      <td>171.90</td>\n",
       "    </tr>\n",
       "    <tr>\n",
       "      <th>2</th>\n",
       "      <td>000001fd-1f89-45e8-a3ce-fe3218cabfad</td>\n",
       "      <td>560486342</td>\n",
       "      <td>2019-10-25 08:30:42+00:00</td>\n",
       "      <td>2019-10-25 08:35:50+00:00</td>\n",
       "      <td>cart</td>\n",
       "      <td>1004834</td>\n",
       "      <td>2053013555631882655</td>\n",
       "      <td>electronics.smartphone</td>\n",
       "      <td>samsung</td>\n",
       "      <td>171.90</td>\n",
       "    </tr>\n",
       "    <tr>\n",
       "      <th>3</th>\n",
       "      <td>000001fd-1f89-45e8-a3ce-fe3218cabfad</td>\n",
       "      <td>560486342</td>\n",
       "      <td>2019-10-25 08:30:42+00:00</td>\n",
       "      <td>2019-10-25 08:36:32+00:00</td>\n",
       "      <td>cart</td>\n",
       "      <td>1004834</td>\n",
       "      <td>2053013555631882655</td>\n",
       "      <td>electronics.smartphone</td>\n",
       "      <td>samsung</td>\n",
       "      <td>171.90</td>\n",
       "    </tr>\n",
       "    <tr>\n",
       "      <th>4</th>\n",
       "      <td>000001fd-1f89-45e8-a3ce-fe3218cabfad</td>\n",
       "      <td>560486342</td>\n",
       "      <td>2019-10-25 08:30:42+00:00</td>\n",
       "      <td>2019-10-25 08:38:28+00:00</td>\n",
       "      <td>cart</td>\n",
       "      <td>1004834</td>\n",
       "      <td>2053013555631882655</td>\n",
       "      <td>electronics.smartphone</td>\n",
       "      <td>samsung</td>\n",
       "      <td>171.90</td>\n",
       "    </tr>\n",
       "    <tr>\n",
       "      <th>...</th>\n",
       "      <td>...</td>\n",
       "      <td>...</td>\n",
       "      <td>...</td>\n",
       "      <td>...</td>\n",
       "      <td>...</td>\n",
       "      <td>...</td>\n",
       "      <td>...</td>\n",
       "      <td>...</td>\n",
       "      <td>...</td>\n",
       "      <td>...</td>\n",
       "    </tr>\n",
       "    <tr>\n",
       "      <th>3802458</th>\n",
       "      <td>fffff038-a8d6-4c8a-9bf3-afe71b52733a</td>\n",
       "      <td>518862395</td>\n",
       "      <td>2019-11-25 10:50:57+00:00</td>\n",
       "      <td>2019-11-25 10:55:22+00:00</td>\n",
       "      <td>cart</td>\n",
       "      <td>22700128</td>\n",
       "      <td>2053013556168753601</td>\n",
       "      <td>NaN</td>\n",
       "      <td>stels</td>\n",
       "      <td>65.38</td>\n",
       "    </tr>\n",
       "    <tr>\n",
       "      <th>3802459</th>\n",
       "      <td>fffff736-405e-485f-ac84-6a622ef44329</td>\n",
       "      <td>571263795</td>\n",
       "      <td>2019-11-17 05:38:10+00:00</td>\n",
       "      <td>2019-11-17 05:38:12+00:00</td>\n",
       "      <td>cart</td>\n",
       "      <td>12720089</td>\n",
       "      <td>2053013553559896355</td>\n",
       "      <td>NaN</td>\n",
       "      <td>roadx</td>\n",
       "      <td>24.97</td>\n",
       "    </tr>\n",
       "    <tr>\n",
       "      <th>3802460</th>\n",
       "      <td>fffff736-405e-485f-ac84-6a622ef44329</td>\n",
       "      <td>571263795</td>\n",
       "      <td>2019-11-17 05:38:10+00:00</td>\n",
       "      <td>2019-11-17 05:50:41+00:00</td>\n",
       "      <td>cart</td>\n",
       "      <td>30100076</td>\n",
       "      <td>2053013556110033341</td>\n",
       "      <td>NaN</td>\n",
       "      <td>NaN</td>\n",
       "      <td>41.67</td>\n",
       "    </tr>\n",
       "    <tr>\n",
       "      <th>3802461</th>\n",
       "      <td>fffffd01-5f95-4916-b2dd-491c603d6c9c</td>\n",
       "      <td>519073108</td>\n",
       "      <td>2019-11-17 14:07:11+00:00</td>\n",
       "      <td>2019-11-17 14:07:42+00:00</td>\n",
       "      <td>cart</td>\n",
       "      <td>1004856</td>\n",
       "      <td>2053013555631882655</td>\n",
       "      <td>electronics.smartphone</td>\n",
       "      <td>samsung</td>\n",
       "      <td>128.42</td>\n",
       "    </tr>\n",
       "    <tr>\n",
       "      <th>3802462</th>\n",
       "      <td>fffffd01-5f95-4916-b2dd-491c603d6c9c</td>\n",
       "      <td>519073108</td>\n",
       "      <td>2019-11-17 14:07:11+00:00</td>\n",
       "      <td>2019-11-17 14:08:27+00:00</td>\n",
       "      <td>cart</td>\n",
       "      <td>1004856</td>\n",
       "      <td>2053013555631882655</td>\n",
       "      <td>electronics.smartphone</td>\n",
       "      <td>samsung</td>\n",
       "      <td>128.42</td>\n",
       "    </tr>\n",
       "  </tbody>\n",
       "</table>\n",
       "<p>3802463 rows × 10 columns</p>\n",
       "</div>"
      ],
      "text/plain": [
       "                                 user_session    user_id  \\\n",
       "0        00000083-8816-4d58-a9b8-f52f54186edc  546521725   \n",
       "1        000001fd-1f89-45e8-a3ce-fe3218cabfad  560486342   \n",
       "2        000001fd-1f89-45e8-a3ce-fe3218cabfad  560486342   \n",
       "3        000001fd-1f89-45e8-a3ce-fe3218cabfad  560486342   \n",
       "4        000001fd-1f89-45e8-a3ce-fe3218cabfad  560486342   \n",
       "...                                       ...        ...   \n",
       "3802458  fffff038-a8d6-4c8a-9bf3-afe71b52733a  518862395   \n",
       "3802459  fffff736-405e-485f-ac84-6a622ef44329  571263795   \n",
       "3802460  fffff736-405e-485f-ac84-6a622ef44329  571263795   \n",
       "3802461  fffffd01-5f95-4916-b2dd-491c603d6c9c  519073108   \n",
       "3802462  fffffd01-5f95-4916-b2dd-491c603d6c9c  519073108   \n",
       "\n",
       "                     event_time_x              event_time_y event_type  \\\n",
       "0       2019-10-06 11:24:45+00:00 2019-10-06 11:33:54+00:00       cart   \n",
       "1       2019-10-25 08:30:42+00:00 2019-10-25 08:34:23+00:00       cart   \n",
       "2       2019-10-25 08:30:42+00:00 2019-10-25 08:35:50+00:00       cart   \n",
       "3       2019-10-25 08:30:42+00:00 2019-10-25 08:36:32+00:00       cart   \n",
       "4       2019-10-25 08:30:42+00:00 2019-10-25 08:38:28+00:00       cart   \n",
       "...                           ...                       ...        ...   \n",
       "3802458 2019-11-25 10:50:57+00:00 2019-11-25 10:55:22+00:00       cart   \n",
       "3802459 2019-11-17 05:38:10+00:00 2019-11-17 05:38:12+00:00       cart   \n",
       "3802460 2019-11-17 05:38:10+00:00 2019-11-17 05:50:41+00:00       cart   \n",
       "3802461 2019-11-17 14:07:11+00:00 2019-11-17 14:07:42+00:00       cart   \n",
       "3802462 2019-11-17 14:07:11+00:00 2019-11-17 14:08:27+00:00       cart   \n",
       "\n",
       "         product_id          category_id           category_code    brand  \\\n",
       "0           1004870  2053013555631882655  electronics.smartphone  samsung   \n",
       "1           1004834  2053013555631882655  electronics.smartphone  samsung   \n",
       "2           1004834  2053013555631882655  electronics.smartphone  samsung   \n",
       "3           1004834  2053013555631882655  electronics.smartphone  samsung   \n",
       "4           1004834  2053013555631882655  electronics.smartphone  samsung   \n",
       "...             ...                  ...                     ...      ...   \n",
       "3802458    22700128  2053013556168753601                     NaN    stels   \n",
       "3802459    12720089  2053013553559896355                     NaN    roadx   \n",
       "3802460    30100076  2053013556110033341                     NaN      NaN   \n",
       "3802461     1004856  2053013555631882655  electronics.smartphone  samsung   \n",
       "3802462     1004856  2053013555631882655  electronics.smartphone  samsung   \n",
       "\n",
       "          price  \n",
       "0        289.52  \n",
       "1        171.90  \n",
       "2        171.90  \n",
       "3        171.90  \n",
       "4        171.90  \n",
       "...         ...  \n",
       "3802458   65.38  \n",
       "3802459   24.97  \n",
       "3802460   41.67  \n",
       "3802461  128.42  \n",
       "3802462  128.42  \n",
       "\n",
       "[3802463 rows x 10 columns]"
      ]
     },
     "execution_count": 25,
     "metadata": {},
     "output_type": "execute_result"
    }
   ],
   "source": [
    "merge_add_cart=pd.merge(first_view_dataset,cart_dataset,how=\"inner\",on=[\"user_session\",\"user_id\"])\n"
   ]
  },
  {
   "cell_type": "code",
   "execution_count": 26,
   "metadata": {},
   "outputs": [],
   "source": [
    "#dataset with the differences between the time the item was saw and the time the item was put in the cart \n",
    "merge_add_cart[\"time_elapse\"]=(merge_add_cart.event_time_y-merge_add_cart.event_time_x)\n"
   ]
  },
  {
   "cell_type": "code",
   "execution_count": 27,
   "metadata": {},
   "outputs": [],
   "source": [
    "merge_pur=pd.merge(first_view_dataset,purchase_dataset,how=\"inner\",on=[\"user_session\",\"user_id\"])\n"
   ]
  },
  {
   "cell_type": "code",
   "execution_count": 28,
   "metadata": {},
   "outputs": [],
   "source": [
    "#dataset with the differences between the time the item was saw and the time the item was purchased\n",
    "merge_pur[\"time_elapse\"]=(merge_pur.event_time_y-merge_pur.event_time_x)\n"
   ]
  },
  {
   "cell_type": "code",
   "execution_count": 29,
   "metadata": {},
   "outputs": [
    {
     "data": {
      "text/plain": [
       "Timedelta('0 days 00:11:16.394629389')"
      ]
     },
     "execution_count": 29,
     "metadata": {},
     "output_type": "execute_result"
    }
   ],
   "source": [
    "((merge_add_cart.time_elapse.sum())+(merge_pur.time_elapse.sum()))/((len(merge_add_cart))+(len(merge_pur)))\n",
    "#so the average time between a first view and a purchase/addition to cart it's about 11min and 16 seconds"
   ]
  },
  {
   "cell_type": "markdown",
   "metadata": {},
   "source": [
    "### RQ2"
   ]
  },
  {
   "cell_type": "markdown",
   "metadata": {},
   "source": [
    "What are the categories of the most trending products overall? For each month visualize this information through a plot showing the number of sold products per category.\n",
    "1) Plot the most visited subcategories.\n",
    "\n",
    "2) What are the 10 most sold products per category?"
   ]
  },
  {
   "cell_type": "code",
   "execution_count": 30,
   "metadata": {},
   "outputs": [],
   "source": [
    "trending_dataset=dataset"
   ]
  },
  {
   "cell_type": "code",
   "execution_count": 31,
   "metadata": {},
   "outputs": [],
   "source": [
    "trending_dataset=trending_dataset[dataset.category_code.notnull()]"
   ]
  },
  {
   "cell_type": "code",
   "execution_count": 32,
   "metadata": {
    "collapsed": true
   },
   "outputs": [
    {
     "name": "stderr",
     "output_type": "stream",
     "text": [
      "<ipython-input-32-fd2b611cc31d>:1: SettingWithCopyWarning: \n",
      "A value is trying to be set on a copy of a slice from a DataFrame.\n",
      "Try using .loc[row_indexer,col_indexer] = value instead\n",
      "\n",
      "See the caveats in the documentation: https://pandas.pydata.org/pandas-docs/stable/user_guide/indexing.html#returning-a-view-versus-a-copy\n",
      "  trending_dataset[(\"category_code\")]=trending_dataset.loc[:,(\"category_code\")].str.split(\".\", n=1, expand=True)\n"
     ]
    }
   ],
   "source": [
    "trending_dataset[(\"category_code\")]=trending_dataset.loc[:,(\"category_code\")].str.split(\".\", n=1, expand=True)\n",
    "#we consider for \"trending\" products, the ones that has been seen,put in cart and bought the most\n",
    "#here we get rid of the sub_categories and keep just the categories"
   ]
  },
  {
   "cell_type": "code",
   "execution_count": 33,
   "metadata": {
    "collapsed": true
   },
   "outputs": [
    {
     "data": {
      "text/plain": [
       "category_code\n",
       "electronics     40141709\n",
       "appliances      13457119\n",
       "computers        6505575\n",
       "apparel          4554025\n",
       "furniture        3358989\n",
       "auto             2227274\n",
       "construction     1822989\n",
       "kids             1327003\n",
       "accessories       628276\n",
       "sport             424610\n",
       "medicine           37188\n",
       "country_yard       31808\n",
       "stationery         20398\n",
       "Name: product_id, dtype: int64"
      ]
     },
     "execution_count": 33,
     "metadata": {},
     "output_type": "execute_result"
    }
   ],
   "source": [
    "trending_dataset.groupby(\"category_code\").product_id.count().sort_values(ascending=False) \n",
    "#this are the categories of the most trending products"
   ]
  },
  {
   "cell_type": "code",
   "execution_count": 34,
   "metadata": {
    "collapsed": true
   },
   "outputs": [
    {
     "name": "stderr",
     "output_type": "stream",
     "text": [
      "<ipython-input-34-9afe36a508a5>:2: SettingWithCopyWarning: \n",
      "A value is trying to be set on a copy of a slice from a DataFrame.\n",
      "Try using .loc[row_indexer,col_indexer] = value instead\n",
      "\n",
      "See the caveats in the documentation: https://pandas.pydata.org/pandas-docs/stable/user_guide/indexing.html#returning-a-view-versus-a-copy\n",
      "  purchase_oct_dataset[\"category_code\"]=oct_dataset.loc[:,(\"category_code\")].str.split(\".\",n=1,expand=True)\n"
     ]
    }
   ],
   "source": [
    "purchase_oct_dataset=oct_dataset[oct_dataset.event_type==\"purchase\"]\n",
    "purchase_oct_dataset[\"category_code\"]=oct_dataset.loc[:,(\"category_code\")].str.split(\".\",n=1,expand=True)\n",
    "#creating a dataset with just the purchases of october\n",
    "#here we get rid of the sub_categories and keep just the categories"
   ]
  },
  {
   "cell_type": "code",
   "execution_count": 35,
   "metadata": {
    "collapsed": true
   },
   "outputs": [
    {
     "name": "stderr",
     "output_type": "stream",
     "text": [
      "<ipython-input-35-6ac27b38f972>:2: SettingWithCopyWarning: \n",
      "A value is trying to be set on a copy of a slice from a DataFrame.\n",
      "Try using .loc[row_indexer,col_indexer] = value instead\n",
      "\n",
      "See the caveats in the documentation: https://pandas.pydata.org/pandas-docs/stable/user_guide/indexing.html#returning-a-view-versus-a-copy\n",
      "  purchase_nov_dataset[\"category_code\"]=nov_dataset.loc[:,(\"category_code\")].str.split(\".\",n=1,expand=True)\n"
     ]
    }
   ],
   "source": [
    "purchase_nov_dataset=nov_dataset[nov_dataset.event_type==\"purchase\"]\n",
    "purchase_nov_dataset[\"category_code\"]=nov_dataset.loc[:,(\"category_code\")].str.split(\".\",n=1,expand=True)\n",
    "#creating a dataset with just the purchases of november\n",
    "#here we get rid of the sub_categories and keep just the categories"
   ]
  },
  {
   "cell_type": "code",
   "execution_count": 36,
   "metadata": {
    "collapsed": true
   },
   "outputs": [
    {
     "data": {
      "text/plain": [
       "category_code\n",
       "electronics     423028\n",
       "appliances       74996\n",
       "computers        27855\n",
       "auto             10620\n",
       "furniture         8301\n",
       "apparel           8002\n",
       "construction      7801\n",
       "kids              5482\n",
       "accessories       1587\n",
       "sport             1236\n",
       "medicine           310\n",
       "stationery         134\n",
       "country_yard        72\n",
       "Name: product_id, dtype: int64"
      ]
     },
     "execution_count": 36,
     "metadata": {},
     "output_type": "execute_result"
    }
   ],
   "source": [
    "purchase_oct_dataset.groupby(\"category_code\").product_id.count().sort_values(ascending=False)\n",
    "#this are the categories with the most sold products of october"
   ]
  },
  {
   "cell_type": "code",
   "execution_count": 37,
   "metadata": {
    "collapsed": true
   },
   "outputs": [
    {
     "data": {
      "text/plain": [
       "category_code\n",
       "electronics     493639\n",
       "appliances       99026\n",
       "computers        34477\n",
       "apparel          14215\n",
       "furniture        11542\n",
       "auto             10719\n",
       "construction      8699\n",
       "kids              6166\n",
       "accessories       2154\n",
       "sport             1489\n",
       "medicine           344\n",
       "stationery         191\n",
       "country_yard        60\n",
       "Name: product_id, dtype: int64"
      ]
     },
     "execution_count": 37,
     "metadata": {},
     "output_type": "execute_result"
    }
   ],
   "source": [
    "purchase_nov_dataset.groupby(\"category_code\").product_id.count().sort_values(ascending=False)\n",
    "#this are the categories with the most sold products of november"
   ]
  },
  {
   "cell_type": "code",
   "execution_count": 38,
   "metadata": {},
   "outputs": [
    {
     "data": {
      "text/plain": [
       "<AxesSubplot:title={'center':'Top trending categories october'}, xlabel='Names of categories', ylabel='Number of sales'>"
      ]
     },
     "execution_count": 38,
     "metadata": {},
     "output_type": "execute_result"
    },
    {
     "data": {
      "image/png": "[encoded data removed]",
      "text/plain": [
       "<Figure size 1368x576 with 1 Axes>"
      ]
     },
     "metadata": {
      "needs_background": "light"
     },
     "output_type": "display_data"
    }
   ],
   "source": [
    "purchase_oct_dataset.groupby(\"category_code\").product_id.count().sort_values(ascending=False).head(10).plot.bar(\n",
    "    figsize = (19, 8), \n",
    "    title='Top trending categories october', \n",
    "    xlabel='Names of categories',\n",
    "    ylabel='Number of sales')"
   ]
  },
  {
   "cell_type": "code",
   "execution_count": 39,
   "metadata": {},
   "outputs": [
    {
     "data": {
      "text/plain": [
       "<AxesSubplot:title={'center':'Top trending categories november'}, xlabel='Names of categories', ylabel='Number of sales'>"
      ]
     },
     "execution_count": 39,
     "metadata": {},
     "output_type": "execute_result"
    },
    {
     "data": {
      "image/png": "[encoded data removed]",
      "text/plain": [
       "<Figure size 1368x576 with 1 Axes>"
      ]
     },
     "metadata": {
      "needs_background": "light"
     },
     "output_type": "display_data"
    }
   ],
   "source": [
    "purchase_nov_dataset.groupby(\"category_code\").product_id.count().sort_values(ascending=False).head(10).plot.bar(\n",
    "    figsize = (19, 8), \n",
    "    title='Top trending categories november', \n",
    "    xlabel='Names of categories',\n",
    "    ylabel='Number of sales')"
   ]
  },
  {
   "cell_type": "markdown",
   "metadata": {},
   "source": [
    "##### 1) Plot the most visited subcategories."
   ]
  },
  {
   "cell_type": "code",
   "execution_count": 40,
   "metadata": {},
   "outputs": [],
   "source": [
    "view=dataset[dataset.event_type==\"view\"]\n"
   ]
  },
  {
   "cell_type": "code",
   "execution_count": 41,
   "metadata": {},
   "outputs": [],
   "source": [
    "view=view[view.category_code.notnull()]"
   ]
  },
  {
   "cell_type": "code",
   "execution_count": 42,
   "metadata": {},
   "outputs": [],
   "source": [
    "cat_dataset= view[\"category_code\"].str.split(\".\",n=1, expand=True)\n",
    "#create a new dataset with column 0 = categories and column 1=sub_categories"
   ]
  },
  {
   "cell_type": "code",
   "execution_count": 43,
   "metadata": {},
   "outputs": [],
   "source": [
    "view[\"Sub_cat\"]=cat_dataset[1]\n",
    "#add to the view dataset the column with only the sub_cats"
   ]
  },
  {
   "cell_type": "code",
   "execution_count": 44,
   "metadata": {},
   "outputs": [
    {
     "data": {
      "text/plain": [
       "<AxesSubplot:title={'center':'Trend'}, xlabel='categoreies', ylabel='number of visit'>"
      ]
     },
     "execution_count": 44,
     "metadata": {},
     "output_type": "execute_result"
    },
    {
     "data": {
      "image/png": "[encoded data removed]",
      "text/plain": [
       "<Figure size 1296x648 with 1 Axes>"
      ]
     },
     "metadata": {
      "needs_background": "light"
     },
     "output_type": "display_data"
    }
   ],
   "source": [
    "view.groupby(\"Sub_cat\").product_id.count().sort_values(ascending=False).head(10).plot.bar(\\\n",
    "                                                                                         figsize =(18,9),\n",
    "                                                                                          title=\"Trend\",\n",
    "                                                                                         xlabel=\"categoreies\",\n",
    "                                                                                         ylabel=\"number of visit\")"
   ]
  },
  {
   "cell_type": "markdown",
   "metadata": {},
   "source": [
    "##### 2) What are the 10 most sold products per category?\n"
   ]
  },
  {
   "cell_type": "code",
   "execution_count": 45,
   "metadata": {},
   "outputs": [],
   "source": [
    "pur_dataset = dataset[dataset.event_type=='purchase']  \n",
    "#create dataset with just purchases\n"
   ]
  },
  {
   "cell_type": "code",
   "execution_count": 47,
   "metadata": {
    "scrolled": false
   },
   "outputs": [],
   "source": [
    "pur_dataset = pur_dataset[pur_dataset.category_code.notnull()]\n"
   ]
  },
  {
   "cell_type": "code",
   "execution_count": 48,
   "metadata": {},
   "outputs": [],
   "source": [
    "newcat = pur_dataset['category_code'].str.split(\".\", n=1, expand=True)\n"
   ]
  },
  {
   "cell_type": "code",
   "execution_count": 49,
   "metadata": {},
   "outputs": [],
   "source": [
    "pur_dataset['only_cat'] = newcat[0]\n"
   ]
  },
  {
   "cell_type": "code",
   "execution_count": 50,
   "metadata": {
    "collapsed": true
   },
   "outputs": [
    {
     "data": {
      "text/html": [
       "<div>\n",
       "<style scoped>\n",
       "    .dataframe tbody tr th:only-of-type {\n",
       "        vertical-align: middle;\n",
       "    }\n",
       "\n",
       "    .dataframe tbody tr th {\n",
       "        vertical-align: top;\n",
       "    }\n",
       "\n",
       "    .dataframe thead th {\n",
       "        text-align: right;\n",
       "    }\n",
       "</style>\n",
       "<table border=\"1\" class=\"dataframe\">\n",
       "  <thead>\n",
       "    <tr style=\"text-align: right;\">\n",
       "      <th></th>\n",
       "      <th>0</th>\n",
       "      <th>1</th>\n",
       "    </tr>\n",
       "  </thead>\n",
       "  <tbody>\n",
       "    <tr>\n",
       "      <th>162</th>\n",
       "      <td>electronics</td>\n",
       "      <td>smartphone</td>\n",
       "    </tr>\n",
       "    <tr>\n",
       "      <th>308</th>\n",
       "      <td>electronics</td>\n",
       "      <td>smartphone</td>\n",
       "    </tr>\n",
       "    <tr>\n",
       "      <th>442</th>\n",
       "      <td>furniture.bathroom</td>\n",
       "      <td>toilet</td>\n",
       "    </tr>\n",
       "    <tr>\n",
       "      <th>574</th>\n",
       "      <td>electronics.audio</td>\n",
       "      <td>headphone</td>\n",
       "    </tr>\n",
       "    <tr>\n",
       "      <th>603</th>\n",
       "      <td>electronics.audio</td>\n",
       "      <td>headphone</td>\n",
       "    </tr>\n",
       "    <tr>\n",
       "      <th>...</th>\n",
       "      <td>...</td>\n",
       "      <td>...</td>\n",
       "    </tr>\n",
       "    <tr>\n",
       "      <th>109950480</th>\n",
       "      <td>electronics</td>\n",
       "      <td>smartphone</td>\n",
       "    </tr>\n",
       "    <tr>\n",
       "      <th>109950489</th>\n",
       "      <td>electronics</td>\n",
       "      <td>smartphone</td>\n",
       "    </tr>\n",
       "    <tr>\n",
       "      <th>109950509</th>\n",
       "      <td>electronics</td>\n",
       "      <td>smartphone</td>\n",
       "    </tr>\n",
       "    <tr>\n",
       "      <th>109950588</th>\n",
       "      <td>electronics</td>\n",
       "      <td>smartphone</td>\n",
       "    </tr>\n",
       "    <tr>\n",
       "      <th>109950627</th>\n",
       "      <td>appliances.environment</td>\n",
       "      <td>vacuum</td>\n",
       "    </tr>\n",
       "  </tbody>\n",
       "</table>\n",
       "<p>1252145 rows × 2 columns</p>\n",
       "</div>"
      ],
      "text/plain": [
       "                                0           1\n",
       "162                   electronics  smartphone\n",
       "308                   electronics  smartphone\n",
       "442            furniture.bathroom      toilet\n",
       "574             electronics.audio   headphone\n",
       "603             electronics.audio   headphone\n",
       "...                           ...         ...\n",
       "109950480             electronics  smartphone\n",
       "109950489             electronics  smartphone\n",
       "109950509             electronics  smartphone\n",
       "109950588             electronics  smartphone\n",
       "109950627  appliances.environment      vacuum\n",
       "\n",
       "[1252145 rows x 2 columns]"
      ]
     },
     "execution_count": 50,
     "metadata": {},
     "output_type": "execute_result"
    }
   ],
   "source": [
    "newprod = pur_dataset['category_code'].str.rsplit(\".\", n=1, expand=True)\n"
   ]
  },
  {
   "cell_type": "code",
   "execution_count": 51,
   "metadata": {},
   "outputs": [],
   "source": [
    "pur_dataset['only_prod'] = newprod[1]\n",
    "\n",
    "#dataset with the categories(column\"only cat\")and the product(column\"only prod\")"
   ]
  },
  {
   "cell_type": "code",
   "execution_count": 52,
   "metadata": {
    "collapsed": true
   },
   "outputs": [
    {
     "data": {
      "text/plain": [
       "only_cat     only_prod    \n",
       "electronics  smartphone       720665\n",
       "             headphone         71337\n",
       "             tv                51839\n",
       "             clocks            41143\n",
       "appliances   washer            35920\n",
       "computers    notebook          34023\n",
       "appliances   vacuum            30571\n",
       "             refrigerators     24260\n",
       "apparel      shoes             14395\n",
       "electronics  tablet            11741\n",
       "Name: only_prod, dtype: int64"
      ]
     },
     "execution_count": 52,
     "metadata": {},
     "output_type": "execute_result"
    }
   ],
   "source": [
    "pur_dataset.groupby(['only_cat', 'only_prod']).only_prod.count().sort_values(ascending=False).head(10)\n",
    "#number of products per only_prod "
   ]
  },
  {
   "cell_type": "code",
   "execution_count": 53,
   "metadata": {},
   "outputs": [],
   "source": [
    "lst = []\n",
    "for cat, frame in pur_dataset.groupby('only_cat'):\n",
    "    lst.append(cat)"
   ]
  },
  {
   "cell_type": "code",
   "execution_count": 54,
   "metadata": {
    "collapsed": true
   },
   "outputs": [
    {
     "name": "stdout",
     "output_type": "stream",
     "text": [
      "\n",
      "only_cat     only_prod\n",
      "accessories  bag          3015\n",
      "             wallet        676\n",
      "             umbrella       50\n",
      "Name: only_prod, dtype: int64\n",
      "\n",
      "only_cat  only_prod\n",
      "apparel   shoes        14395\n",
      "          keds          4981\n",
      "          costume       1368\n",
      "          jeans          309\n",
      "          underwear      181\n",
      "          shirt          160\n",
      "          tshirt         151\n",
      "          dress          127\n",
      "          moccasins      102\n",
      "          jumper          84\n",
      "Name: only_prod, dtype: int64\n",
      "\n",
      "only_cat    only_prod    \n",
      "appliances  washer           35920\n",
      "            vacuum           30571\n",
      "            refrigerators    24260\n",
      "            microwave         8855\n",
      "            iron              8303\n",
      "            blender           7086\n",
      "            kettle            6542\n",
      "            water_heater      6156\n",
      "            oven              6069\n",
      "            air_heater        6066\n",
      "Name: only_prod, dtype: int64\n",
      "\n",
      "only_cat  only_prod    \n",
      "auto      player           8440\n",
      "          alarm            5699\n",
      "          videoregister    4688\n",
      "          compressor       1291\n",
      "          radar            1038\n",
      "          parktronic        119\n",
      "          winch              46\n",
      "          anti_freeze        18\n",
      "Name: only_prod, dtype: int64\n",
      "\n",
      "only_cat   only_prod \n",
      "computers  notebook      34023\n",
      "           desktop        7013\n",
      "           printer        5194\n",
      "           monitor        2648\n",
      "           hdd            2547\n",
      "           mouse          2372\n",
      "           videocards     1965\n",
      "           memory         1402\n",
      "           keyboard       1307\n",
      "           cooler         1091\n",
      "Name: only_prod, dtype: int64\n",
      "\n",
      "only_cat      only_prod\n",
      "construction  drill        5988\n",
      "              saw          3630\n",
      "              generator    2898\n",
      "              welding      2200\n",
      "              faucet        685\n",
      "              pump          648\n",
      "              painting      242\n",
      "              light         201\n",
      "              soldering       7\n",
      "              screw           1\n",
      "Name: only_prod, dtype: int64\n",
      "\n",
      "only_cat      only_prod \n",
      "country_yard  lawn_mower    82\n",
      "              cultivator    46\n",
      "              hammok         4\n",
      "Name: only_prod, dtype: int64\n",
      "\n",
      "only_cat     only_prod \n",
      "electronics  smartphone    720665\n",
      "             headphone      71337\n",
      "             tv             51839\n",
      "             clocks         41143\n",
      "             tablet         11741\n",
      "             telephone       8076\n",
      "             subwoofer       6478\n",
      "             acoustic        2041\n",
      "             piano           1119\n",
      "             microphone       919\n",
      "Name: only_prod, dtype: int64\n",
      "\n",
      "only_cat   only_prod\n",
      "furniture  bed          5123\n",
      "           cabinet      4522\n",
      "           chair        4115\n",
      "           sofa         2646\n",
      "           table        2026\n",
      "           toilet        395\n",
      "           blanket       376\n",
      "           pillow        360\n",
      "           bath          193\n",
      "           light          87\n",
      "Name: only_prod, dtype: int64\n",
      "\n",
      "only_cat  only_prod\n",
      "kids      carriage     4955\n",
      "          toys         2425\n",
      "          diapers      1587\n",
      "          skates       1088\n",
      "          swing         812\n",
      "          dolls         781\n",
      "Name: only_prod, dtype: int64\n",
      "\n",
      "only_cat  only_prod\n",
      "medicine  tonometer    654\n",
      "Name: only_prod, dtype: int64\n",
      "\n",
      "only_cat  only_prod\n",
      "sport     bicycle      1374\n",
      "          trainer      1060\n",
      "          snowboard     144\n",
      "          ski            90\n",
      "          tennis         57\n",
      "Name: only_prod, dtype: int64\n",
      "\n",
      "only_cat    only_prod\n",
      "stationery  cartrige     325\n",
      "Name: only_prod, dtype: int64\n"
     ]
    }
   ],
   "source": [
    "#ten most sold products per category\n",
    "for i in lst:\n",
    "    print(\"\")\n",
    "    print(pur_dataset[pur_dataset.only_cat==str(i)].groupby(['only_cat', 'only_prod']).only_prod.count().sort_values(ascending=False).head(10))"
   ]
  },
  {
   "cell_type": "markdown",
   "metadata": {},
   "source": [
    "### RQ3"
   ]
  },
  {
   "cell_type": "markdown",
   "metadata": {},
   "source": [
    "for each category, what’s the brand whose prices are higher on average?\n",
    "1) Write a function that asks the user a category in input and returns a plot indicating the average price of the products sold by the brand.\n",
    "\n",
    "2) Find, for each category, the brand with the highest average price. Return all the results in ascending order by price."
   ]
  },
  {
   "cell_type": "code",
   "execution_count": 5,
   "metadata": {},
   "outputs": [],
   "source": [
    "cat_dataset=dataset"
   ]
  },
  {
   "cell_type": "code",
   "execution_count": 6,
   "metadata": {},
   "outputs": [],
   "source": [
    "cat_dataset[\"category_code\"]=cat_dataset[\"category_code\"].str.split(\".\",n=1,expand=True)"
   ]
  },
  {
   "cell_type": "code",
   "execution_count": 7,
   "metadata": {},
   "outputs": [
    {
     "data": {
      "text/plain": [
       "category_code  brand        \n",
       "sport          pinarello        2533.238401\n",
       "               nordictrack      2522.590000\n",
       "               kessler          2372.000000\n",
       "appliances     climadiff        2261.951167\n",
       "computers      dreammachines    2221.466373\n",
       "                                   ...     \n",
       "electronics    acqua               3.065686\n",
       "               continent           3.030050\n",
       "               dagee               2.930000\n",
       "construction   opple               2.750000\n",
       "kids           mioshi              2.020000\n",
       "Name: price, Length: 2496, dtype: float64"
      ]
     },
     "execution_count": 7,
     "metadata": {},
     "output_type": "execute_result"
    }
   ],
   "source": [
    "cat_dataset.groupby([\"category_code\",\"brand\"]).price.mean().sort_values(ascending=False)\n",
    "#brand for each category with the higher prices on average"
   ]
  },
  {
   "cell_type": "markdown",
   "metadata": {},
   "source": [
    "##### 1) Write a function that asks the user a category in input and returns a plot indicating the average price of the products sold by the brand."
   ]
  },
  {
   "cell_type": "code",
   "execution_count": 8,
   "metadata": {},
   "outputs": [],
   "source": [
    "def cat(a):\n",
    "    dataset[\"category_code\"]=dataset[\"category_code\"].str.split(\".\",n=1,expand=True)\n",
    "    cat = dataset[dataset.category_code==str(a)]\n",
    "    res= cat[cat.event_type==\"purchase\"].groupby(\"brand\").price.mean().sort_values(ascending=False)\n",
    "    res2= cat.groupby(\"brand\").price.mean().sort_values(ascending=False)\n",
    "    return res.head(20).plot.bar(figsize =(18,9))\n",
    "#used the function head to keep the plot readable"
   ]
  },
  {
   "cell_type": "code",
   "execution_count": null,
   "metadata": {},
   "outputs": [],
   "source": [
    "a=input(\"insert proper category: \")\n",
    "cat(a)"
   ]
  },
  {
   "cell_type": "markdown",
   "metadata": {},
   "source": [
    "##### 2) Find, for each category, the brand with the highest average price. Return all the results in ascending order by price."
   ]
  },
  {
   "cell_type": "code",
   "execution_count": 9,
   "metadata": {
    "collapsed": true
   },
   "outputs": [
    {
     "data": {
      "text/plain": [
       "category_code  brand        \n",
       "kids           mioshi              2.020000\n",
       "construction   opple               2.750000\n",
       "electronics    dagee               2.930000\n",
       "               continent           3.030050\n",
       "               acqua               3.065686\n",
       "                                   ...     \n",
       "computers      dreammachines    2221.466373\n",
       "appliances     climadiff        2261.951167\n",
       "sport          kessler          2372.000000\n",
       "               nordictrack      2522.590000\n",
       "               pinarello        2533.238401\n",
       "Name: price, Length: 2496, dtype: float64"
      ]
     },
     "execution_count": 9,
     "metadata": {},
     "output_type": "execute_result"
    }
   ],
   "source": [
    "dataset.groupby([\"category_code\",\"brand\"]).price.mean().sort_values(ascending=True)"
   ]
  },
  {
   "cell_type": "markdown",
   "metadata": {},
   "source": [
    "### RQ4"
   ]
  },
  {
   "cell_type": "markdown",
   "metadata": {},
   "source": [
    "How much does each brand earn per month? Write a function that given the name of a brand in input returns, for each month, its profit. Is the average price of products of different brands significantly different?\n",
    "\n",
    "1) Using the function you just created, find the top 3 brands that have suffered the biggest losses in earnings between one month and the next, specifing bothe the loss percentage and the 2 months (e.g., brand_1 lost 20% between march and april)."
   ]
  },
  {
   "cell_type": "code",
   "execution_count": 20,
   "metadata": {},
   "outputs": [],
   "source": [
    "def brand(a):\n",
    "    brand = dataset[dataset.brand==str(a)]\n",
    "    branov = datanov[datanov.brand==str(a)]\n",
    "    profit = brand[brand.event_type=='purchase'].price.sum()\n",
    "    profit2 = branov[branov.event_type=='purchase'].price.sum()\n",
    "    return profit, profit2\n",
    "    "
   ]
  },
  {
   "cell_type": "code",
   "execution_count": null,
   "metadata": {},
   "outputs": [],
   "source": [
    "a = input(\"Scrivi brand :\")\n",
    "brand(a)"
   ]
  },
  {
   "cell_type": "code",
   "execution_count": null,
   "metadata": {},
   "outputs": [],
   "source": []
  },
  {
   "cell_type": "markdown",
   "metadata": {},
   "source": [
    "##### 1) Using the function you just created, find the top 3 brands that have suffered the biggest losses in earnings between one month and the next, specifing bothe the loss percentage and the 2 months (e.g., brand_1 lost 20% between march and april).\n",
    "\n"
   ]
  },
  {
   "cell_type": "code",
   "execution_count": 34,
   "metadata": {},
   "outputs": [],
   "source": [
    "o_dataset=oct_dataset[:10000]\n",
    "n_dataset=nov_dataset[:10000]"
   ]
  },
  {
   "cell_type": "code",
   "execution_count": 35,
   "metadata": {},
   "outputs": [],
   "source": [
    "lst = []\n",
    "for brand,frame in o_dataset.groupby('brand'):\n",
    "    lst.append(brand)  \n",
    "#take all the brands of the dataset and put them in to a list    "
   ]
  },
  {
   "cell_type": "code",
   "execution_count": 36,
   "metadata": {},
   "outputs": [],
   "source": [
    "diff = 0.0\n",
    "dictio = {}\n",
    "for i in lst:\n",
    "    brand = o_dataset[o_dataset.brand==str(i)]\n",
    "    branov = n_dataset[n_dataset.brand==str(i)]\n",
    "    profit = brand[brand.event_type=='purchase'].price.sum()\n",
    "    profit2 = branov[branov.event_type=='purchase'].price.sum()\n",
    "    if profit2 < profit:\n",
    "        diff = profit - profit2\n",
    "        perd = int((100*diff)/profit)\n",
    "        dictio[i]=perd\n",
    "#create a dictionary with the brand name and the %lost        "
   ]
  },
  {
   "cell_type": "code",
   "execution_count": 37,
   "metadata": {},
   "outputs": [],
   "source": [
    "sorted_d = dict( sorted(dictio.items(), key=operator.itemgetter(1),reverse=True))"
   ]
  },
  {
   "cell_type": "code",
   "execution_count": 38,
   "metadata": {},
   "outputs": [],
   "source": [
    "dict_items = sorted_d.items()"
   ]
  },
  {
   "cell_type": "code",
   "execution_count": 39,
   "metadata": {},
   "outputs": [],
   "source": [
    "first_three = list(dict_items)[:3]"
   ]
  },
  {
   "cell_type": "code",
   "execution_count": 40,
   "metadata": {
    "collapsed": true
   },
   "outputs": [
    {
     "name": "stdout",
     "output_type": "stream",
     "text": [
      "[('acer', 100), ('alteco', 100), ('asus', 100)]\n"
     ]
    }
   ],
   "source": [
    "print(first_three)\n",
    "#we print the 3 with the highest %loss\n",
    "#100%could mean that the brand has stopped to sell it's item the next month"
   ]
  },
  {
   "cell_type": "markdown",
   "metadata": {},
   "source": [
    "### RQ5"
   ]
  },
  {
   "cell_type": "markdown",
   "metadata": {},
   "source": [
    "In what part of the day is your store most visited? Knowing which days of the week or even which hours of the day shoppers are likely to visit your online store and make a purchase may help you improve your strategies. Create a plot that for each day of the week show the hourly average of visitors your store has."
   ]
  },
  {
   "cell_type": "code",
   "execution_count": 13,
   "metadata": {
    "collapsed": true
   },
   "outputs": [
    {
     "data": {
      "text/plain": [
       "event_time  event_time\n",
       "4           16            1230037\n",
       "            15            1218510\n",
       "6           17            1173435\n",
       "5           16            1169263\n",
       "6           15            1163032\n",
       "                           ...   \n",
       "4           23              78139\n",
       "1           23              68608\n",
       "6           23              68388\n",
       "2           23              67818\n",
       "0           23              63573\n",
       "Name: user_session, Length: 168, dtype: int64"
      ]
     },
     "execution_count": 13,
     "metadata": {},
     "output_type": "execute_result"
    }
   ],
   "source": [
    "dataset.groupby([dataset.event_time.dt.dayofweek, dataset.event_time.dt.hour]).user_session.count().sort_values(ascending=False)\n",
    "#part of the days in which the store is more visited (the first event_time is for the day of the week where 0=Monday and 6=Sunday)"
   ]
  },
  {
   "cell_type": "code",
   "execution_count": 14,
   "metadata": {},
   "outputs": [
    {
     "data": {
      "text/plain": [
       "<AxesSubplot:xlabel='event_time'>"
      ]
     },
     "execution_count": 14,
     "metadata": {},
     "output_type": "execute_result"
    },
    {
     "data": {
      "image/png": "[encoded data removed]",
      "text/plain": [
       "<Figure size 432x288 with 1 Axes>"
      ]
     },
     "metadata": {
      "needs_background": "light"
     },
     "output_type": "display_data"
    }
   ],
   "source": [
    "labels = [\"Monday\", \"Tuesday\", \"Wednesday\", \"Thursday\", \"Friday\", \"Saturday\", \"Sunday\"]\n",
    "df = dataset.groupby(dataset.event_time.dt.dayofweek).user_session.count()/24\n",
    "df.plot.bar()\n"
   ]
  },
  {
   "cell_type": "code",
   "execution_count": 18,
   "metadata": {},
   "outputs": [
    {
     "data": {
      "image/png": "[encoded data removed]",
      "text/plain": [
       "<Figure size 432x288 with 1 Axes>"
      ]
     },
     "metadata": {},
     "output_type": "display_data"
    }
   ],
   "source": [
    "labels = [\"Monday\", \"Tuesday\", \"Wednesday\", \"Thursday\", \"Friday\", \"Saturday\", \"Sunday\"]\n",
    "size = dataset.groupby(dataset.event_time.dt.dayofweek).user_session.count()/24\n",
    "plt.pie(size, labels = labels, shadow = True, autopct = '%.2f%%')\n",
    "plt.title('Event Time', fontsize = 20)\n",
    "plt.axis('off')\n",
    "plt.show()"
   ]
  },
  {
   "cell_type": "markdown",
   "metadata": {},
   "source": [
    "### RQ6"
   ]
  },
  {
   "cell_type": "markdown",
   "metadata": {},
   "source": [
    "the conversion rate of a product is given by the number of times a product has been bought over the number of times it has been visited. What's the conversion rate of your online store?\n",
    "1) Find the overall conversion rate of your store.\n",
    "\n",
    "2) Plot the number of purchases of each category and show the conversion rate of each category in decreasing order."
   ]
  },
  {
   "cell_type": "markdown",
   "metadata": {},
   "source": [
    "##### 1) Find the overall conversion rate of your store."
   ]
  },
  {
   "cell_type": "code",
   "execution_count": 19,
   "metadata": {},
   "outputs": [
    {
     "data": {
      "text/plain": [
       "0.01590817944828352"
      ]
     },
     "execution_count": 19,
     "metadata": {},
     "output_type": "execute_result"
    }
   ],
   "source": [
    "#conversion rate=#purchases/#of views\n",
    "len(dataset[dataset.event_type==\"purchase\"])/len(dataset[dataset.event_type==\"view\"])"
   ]
  },
  {
   "cell_type": "markdown",
   "metadata": {},
   "source": [
    "##### 2) Plot the number of purchases of each category and show the conversion rate of each category in decreasing order."
   ]
  },
  {
   "cell_type": "code",
   "execution_count": 41,
   "metadata": {
    "scrolled": true
   },
   "outputs": [],
   "source": [
    "cat_dataset=dataset\n"
   ]
  },
  {
   "cell_type": "code",
   "execution_count": 42,
   "metadata": {},
   "outputs": [],
   "source": [
    "cat_dataset[(\"category_code\")]=cat_dataset.loc[:,(\"category_code\")].str.split(\".\", n=1, expand=True)\n",
    "#dataset with just the categories(no sub_categories)"
   ]
  },
  {
   "cell_type": "code",
   "execution_count": 43,
   "metadata": {},
   "outputs": [],
   "source": [
    "pur_cat_dataset=cat_dataset[cat_dataset.event_type==\"purchase\"]\n"
   ]
  },
  {
   "cell_type": "code",
   "execution_count": 44,
   "metadata": {},
   "outputs": [],
   "source": [
    "pur_cat_dataset=pur_cat_dataset[pur_cat_dataset.category_code.notnull()]"
   ]
  },
  {
   "cell_type": "code",
   "execution_count": 45,
   "metadata": {},
   "outputs": [
    {
     "data": {
      "text/plain": [
       "<AxesSubplot:title={'center':'Purchases of each category'}, xlabel='categoreies', ylabel='number of purchases'>"
      ]
     },
     "execution_count": 45,
     "metadata": {},
     "output_type": "execute_result"
    },
    {
     "data": {
      "image/png": "[encoded data removed]",
      "text/plain": [
       "<Figure size 1296x648 with 1 Axes>"
      ]
     },
     "metadata": {
      "needs_background": "light"
     },
     "output_type": "display_data"
    }
   ],
   "source": [
    "#plot of the number of purchases for each category\n",
    "pur_cat_dataset.groupby([\"category_code\"]).size().sort_values(ascending=False).plot.bar(\\\n",
    "                                                                                         figsize =(18,9),\n",
    "                                                                                          title=\"Purchases of each category\",\n",
    "                                                                                         xlabel=\"categoreies\",\n",
    "                                                                                         ylabel=\"number of purchases\")"
   ]
  },
  {
   "cell_type": "code",
   "execution_count": 49,
   "metadata": {
    "collapsed": true
   },
   "outputs": [
    {
     "data": {
      "text/html": [
       "<div>\n",
       "<style scoped>\n",
       "    .dataframe tbody tr th:only-of-type {\n",
       "        vertical-align: middle;\n",
       "    }\n",
       "\n",
       "    .dataframe tbody tr th {\n",
       "        vertical-align: top;\n",
       "    }\n",
       "\n",
       "    .dataframe thead th {\n",
       "        text-align: right;\n",
       "    }\n",
       "</style>\n",
       "<table border=\"1\" class=\"dataframe\">\n",
       "  <thead>\n",
       "    <tr style=\"text-align: right;\">\n",
       "      <th></th>\n",
       "      <th>event_time</th>\n",
       "      <th>event_type</th>\n",
       "      <th>product_id</th>\n",
       "      <th>category_id</th>\n",
       "      <th>category_code</th>\n",
       "      <th>brand</th>\n",
       "      <th>price</th>\n",
       "      <th>user_id</th>\n",
       "      <th>user_session</th>\n",
       "    </tr>\n",
       "  </thead>\n",
       "  <tbody>\n",
       "    <tr>\n",
       "      <th>0</th>\n",
       "      <td>2019-10-01 00:00:00+00:00</td>\n",
       "      <td>view</td>\n",
       "      <td>44600062</td>\n",
       "      <td>2103807459595387724</td>\n",
       "      <td>NaN</td>\n",
       "      <td>shiseido</td>\n",
       "      <td>35.79</td>\n",
       "      <td>541312140</td>\n",
       "      <td>72d76fde-8bb3-4e00-8c23-a032dfed738c</td>\n",
       "    </tr>\n",
       "    <tr>\n",
       "      <th>1</th>\n",
       "      <td>2019-10-01 00:00:00+00:00</td>\n",
       "      <td>view</td>\n",
       "      <td>3900821</td>\n",
       "      <td>2053013552326770905</td>\n",
       "      <td>appliances</td>\n",
       "      <td>aqua</td>\n",
       "      <td>33.20</td>\n",
       "      <td>554748717</td>\n",
       "      <td>9333dfbd-b87a-4708-9857-6336556b0fcc</td>\n",
       "    </tr>\n",
       "    <tr>\n",
       "      <th>2</th>\n",
       "      <td>2019-10-01 00:00:01+00:00</td>\n",
       "      <td>view</td>\n",
       "      <td>17200506</td>\n",
       "      <td>2053013559792632471</td>\n",
       "      <td>furniture</td>\n",
       "      <td>NaN</td>\n",
       "      <td>543.10</td>\n",
       "      <td>519107250</td>\n",
       "      <td>566511c2-e2e3-422b-b695-cf8e6e792ca8</td>\n",
       "    </tr>\n",
       "    <tr>\n",
       "      <th>3</th>\n",
       "      <td>2019-10-01 00:00:01+00:00</td>\n",
       "      <td>view</td>\n",
       "      <td>1307067</td>\n",
       "      <td>2053013558920217191</td>\n",
       "      <td>computers</td>\n",
       "      <td>lenovo</td>\n",
       "      <td>251.74</td>\n",
       "      <td>550050854</td>\n",
       "      <td>7c90fc70-0e80-4590-96f3-13c02c18c713</td>\n",
       "    </tr>\n",
       "    <tr>\n",
       "      <th>4</th>\n",
       "      <td>2019-10-01 00:00:04+00:00</td>\n",
       "      <td>view</td>\n",
       "      <td>1004237</td>\n",
       "      <td>2053013555631882655</td>\n",
       "      <td>electronics</td>\n",
       "      <td>apple</td>\n",
       "      <td>1081.98</td>\n",
       "      <td>535871217</td>\n",
       "      <td>c6bd7419-2748-4c56-95b4-8cec9ff8b80d</td>\n",
       "    </tr>\n",
       "    <tr>\n",
       "      <th>...</th>\n",
       "      <td>...</td>\n",
       "      <td>...</td>\n",
       "      <td>...</td>\n",
       "      <td>...</td>\n",
       "      <td>...</td>\n",
       "      <td>...</td>\n",
       "      <td>...</td>\n",
       "      <td>...</td>\n",
       "      <td>...</td>\n",
       "    </tr>\n",
       "    <tr>\n",
       "      <th>109950738</th>\n",
       "      <td>2019-11-30 23:59:58+00:00</td>\n",
       "      <td>view</td>\n",
       "      <td>15700137</td>\n",
       "      <td>2053013559733912211</td>\n",
       "      <td>NaN</td>\n",
       "      <td>NaN</td>\n",
       "      <td>277.74</td>\n",
       "      <td>532714000</td>\n",
       "      <td>02b4131c-0112-4231-aafa-ceaa08e77c1b</td>\n",
       "    </tr>\n",
       "    <tr>\n",
       "      <th>109950739</th>\n",
       "      <td>2019-11-30 23:59:58+00:00</td>\n",
       "      <td>view</td>\n",
       "      <td>28719425</td>\n",
       "      <td>2053013565639492569</td>\n",
       "      <td>apparel</td>\n",
       "      <td>baden</td>\n",
       "      <td>62.81</td>\n",
       "      <td>545223467</td>\n",
       "      <td>734c5eef-0742-4f8b-9d22-48f75b0bc359</td>\n",
       "    </tr>\n",
       "    <tr>\n",
       "      <th>109950740</th>\n",
       "      <td>2019-11-30 23:59:59+00:00</td>\n",
       "      <td>view</td>\n",
       "      <td>1004833</td>\n",
       "      <td>2053013555631882655</td>\n",
       "      <td>electronics</td>\n",
       "      <td>samsung</td>\n",
       "      <td>167.03</td>\n",
       "      <td>557794415</td>\n",
       "      <td>6fecf566-ebb0-4e70-a243-cdc13ce044cb</td>\n",
       "    </tr>\n",
       "    <tr>\n",
       "      <th>109950741</th>\n",
       "      <td>2019-11-30 23:59:59+00:00</td>\n",
       "      <td>view</td>\n",
       "      <td>2701706</td>\n",
       "      <td>2053013563911439225</td>\n",
       "      <td>appliances</td>\n",
       "      <td>samsung</td>\n",
       "      <td>566.27</td>\n",
       "      <td>531607492</td>\n",
       "      <td>368ddc8b-5db9-40fb-b7ff-b6582a1192c0</td>\n",
       "    </tr>\n",
       "    <tr>\n",
       "      <th>109950742</th>\n",
       "      <td>2019-11-30 23:59:59+00:00</td>\n",
       "      <td>view</td>\n",
       "      <td>1004233</td>\n",
       "      <td>2053013555631882655</td>\n",
       "      <td>electronics</td>\n",
       "      <td>apple</td>\n",
       "      <td>1312.52</td>\n",
       "      <td>579969851</td>\n",
       "      <td>90aca71c-ed8a-4670-866a-761ebacb732d</td>\n",
       "    </tr>\n",
       "  </tbody>\n",
       "</table>\n",
       "<p>109950743 rows × 9 columns</p>\n",
       "</div>"
      ],
      "text/plain": [
       "                         event_time event_type  product_id  \\\n",
       "0         2019-10-01 00:00:00+00:00       view    44600062   \n",
       "1         2019-10-01 00:00:00+00:00       view     3900821   \n",
       "2         2019-10-01 00:00:01+00:00       view    17200506   \n",
       "3         2019-10-01 00:00:01+00:00       view     1307067   \n",
       "4         2019-10-01 00:00:04+00:00       view     1004237   \n",
       "...                             ...        ...         ...   \n",
       "109950738 2019-11-30 23:59:58+00:00       view    15700137   \n",
       "109950739 2019-11-30 23:59:58+00:00       view    28719425   \n",
       "109950740 2019-11-30 23:59:59+00:00       view     1004833   \n",
       "109950741 2019-11-30 23:59:59+00:00       view     2701706   \n",
       "109950742 2019-11-30 23:59:59+00:00       view     1004233   \n",
       "\n",
       "                   category_id category_code     brand    price    user_id  \\\n",
       "0          2103807459595387724           NaN  shiseido    35.79  541312140   \n",
       "1          2053013552326770905    appliances      aqua    33.20  554748717   \n",
       "2          2053013559792632471     furniture       NaN   543.10  519107250   \n",
       "3          2053013558920217191     computers    lenovo   251.74  550050854   \n",
       "4          2053013555631882655   electronics     apple  1081.98  535871217   \n",
       "...                        ...           ...       ...      ...        ...   \n",
       "109950738  2053013559733912211           NaN       NaN   277.74  532714000   \n",
       "109950739  2053013565639492569       apparel     baden    62.81  545223467   \n",
       "109950740  2053013555631882655   electronics   samsung   167.03  557794415   \n",
       "109950741  2053013563911439225    appliances   samsung   566.27  531607492   \n",
       "109950742  2053013555631882655   electronics     apple  1312.52  579969851   \n",
       "\n",
       "                                   user_session  \n",
       "0          72d76fde-8bb3-4e00-8c23-a032dfed738c  \n",
       "1          9333dfbd-b87a-4708-9857-6336556b0fcc  \n",
       "2          566511c2-e2e3-422b-b695-cf8e6e792ca8  \n",
       "3          7c90fc70-0e80-4590-96f3-13c02c18c713  \n",
       "4          c6bd7419-2748-4c56-95b4-8cec9ff8b80d  \n",
       "...                                         ...  \n",
       "109950738  02b4131c-0112-4231-aafa-ceaa08e77c1b  \n",
       "109950739  734c5eef-0742-4f8b-9d22-48f75b0bc359  \n",
       "109950740  6fecf566-ebb0-4e70-a243-cdc13ce044cb  \n",
       "109950741  368ddc8b-5db9-40fb-b7ff-b6582a1192c0  \n",
       "109950742  90aca71c-ed8a-4670-866a-761ebacb732d  \n",
       "\n",
       "[109950743 rows x 9 columns]"
      ]
     },
     "execution_count": 49,
     "metadata": {},
     "output_type": "execute_result"
    }
   ],
   "source": [
    "new_set=dataset\n"
   ]
  },
  {
   "cell_type": "code",
   "execution_count": 51,
   "metadata": {},
   "outputs": [],
   "source": [
    "new_set[\"category_code\"] = new_set[\"category_code\"].str.split(\".\", n=1, expand=True)"
   ]
  },
  {
   "cell_type": "code",
   "execution_count": 52,
   "metadata": {},
   "outputs": [],
   "source": [
    "new_set = new_set[new_set.category_code.notnull()]"
   ]
  },
  {
   "cell_type": "markdown",
   "metadata": {},
   "source": [
    "conversion rate of each category:"
   ]
  },
  {
   "cell_type": "code",
   "execution_count": 53,
   "metadata": {},
   "outputs": [],
   "source": [
    "lst = []\n",
    "for catcode, frame in new_set.groupby('category_code'):\n",
    "    lst.append(catcode)"
   ]
  },
  {
   "cell_type": "code",
   "execution_count": 54,
   "metadata": {},
   "outputs": [
    {
     "name": "stderr",
     "output_type": "stream",
     "text": [
      "<ipython-input-54-44bbf96d4e2c>:3: UserWarning: Boolean Series key will be reindexed to match DataFrame index.\n",
      "  purcat = new_set[new_set.event_type=='purchase'][new_set.category_code==str(i)].event_type.count()\n",
      "<ipython-input-54-44bbf96d4e2c>:4: UserWarning: Boolean Series key will be reindexed to match DataFrame index.\n",
      "  view = dataset[new_set.event_type=='view'][new_set.category_code==str(i)].event_type.count()\n"
     ]
    },
    {
     "ename": "IndexingError",
     "evalue": "Unalignable boolean Series provided as indexer (index of the boolean Series and of the indexed object do not match).",
     "output_type": "error",
     "traceback": [
      "\u001b[1;31m---------------------------------------------------------------------------\u001b[0m",
      "\u001b[1;31mIndexingError\u001b[0m                             Traceback (most recent call last)",
      "\u001b[1;32m<ipython-input-54-44bbf96d4e2c>\u001b[0m in \u001b[0;36m<module>\u001b[1;34m\u001b[0m\n\u001b[0;32m      2\u001b[0m \u001b[1;32mfor\u001b[0m \u001b[0mi\u001b[0m \u001b[1;32min\u001b[0m \u001b[0mlst\u001b[0m\u001b[1;33m:\u001b[0m\u001b[1;33m\u001b[0m\u001b[1;33m\u001b[0m\u001b[0m\n\u001b[0;32m      3\u001b[0m     \u001b[0mpurcat\u001b[0m \u001b[1;33m=\u001b[0m \u001b[0mnew_set\u001b[0m\u001b[1;33m[\u001b[0m\u001b[0mnew_set\u001b[0m\u001b[1;33m.\u001b[0m\u001b[0mevent_type\u001b[0m\u001b[1;33m==\u001b[0m\u001b[1;34m'purchase'\u001b[0m\u001b[1;33m]\u001b[0m\u001b[1;33m[\u001b[0m\u001b[0mnew_set\u001b[0m\u001b[1;33m.\u001b[0m\u001b[0mcategory_code\u001b[0m\u001b[1;33m==\u001b[0m\u001b[0mstr\u001b[0m\u001b[1;33m(\u001b[0m\u001b[0mi\u001b[0m\u001b[1;33m)\u001b[0m\u001b[1;33m]\u001b[0m\u001b[1;33m.\u001b[0m\u001b[0mevent_type\u001b[0m\u001b[1;33m.\u001b[0m\u001b[0mcount\u001b[0m\u001b[1;33m(\u001b[0m\u001b[1;33m)\u001b[0m\u001b[1;33m\u001b[0m\u001b[1;33m\u001b[0m\u001b[0m\n\u001b[1;32m----> 4\u001b[1;33m     \u001b[0mview\u001b[0m \u001b[1;33m=\u001b[0m \u001b[0mdataset\u001b[0m\u001b[1;33m[\u001b[0m\u001b[0mnew_set\u001b[0m\u001b[1;33m.\u001b[0m\u001b[0mevent_type\u001b[0m\u001b[1;33m==\u001b[0m\u001b[1;34m'view'\u001b[0m\u001b[1;33m]\u001b[0m\u001b[1;33m[\u001b[0m\u001b[0mnew_set\u001b[0m\u001b[1;33m.\u001b[0m\u001b[0mcategory_code\u001b[0m\u001b[1;33m==\u001b[0m\u001b[0mstr\u001b[0m\u001b[1;33m(\u001b[0m\u001b[0mi\u001b[0m\u001b[1;33m)\u001b[0m\u001b[1;33m]\u001b[0m\u001b[1;33m.\u001b[0m\u001b[0mevent_type\u001b[0m\u001b[1;33m.\u001b[0m\u001b[0mcount\u001b[0m\u001b[1;33m(\u001b[0m\u001b[1;33m)\u001b[0m\u001b[1;33m\u001b[0m\u001b[1;33m\u001b[0m\u001b[0m\n\u001b[0m\u001b[0;32m      5\u001b[0m     \u001b[0mprint\u001b[0m\u001b[1;33m(\u001b[0m\u001b[0mpurcat\u001b[0m\u001b[1;33m/\u001b[0m\u001b[0mview\u001b[0m\u001b[1;33m)\u001b[0m\u001b[1;33m\u001b[0m\u001b[1;33m\u001b[0m\u001b[0m\n\u001b[0;32m      6\u001b[0m     \u001b[0mres\u001b[0m \u001b[1;33m=\u001b[0m \u001b[0mpurcat\u001b[0m\u001b[1;33m/\u001b[0m\u001b[0mview\u001b[0m\u001b[1;33m\u001b[0m\u001b[1;33m\u001b[0m\u001b[0m\n",
      "\u001b[1;32m~\\anaconda3\\envs\\DataScience\\lib\\site-packages\\pandas\\core\\frame.py\u001b[0m in \u001b[0;36m__getitem__\u001b[1;34m(self, key)\u001b[0m\n\u001b[0;32m   2891\u001b[0m         \u001b[1;31m# Do we have a (boolean) 1d indexer?\u001b[0m\u001b[1;33m\u001b[0m\u001b[1;33m\u001b[0m\u001b[1;33m\u001b[0m\u001b[0m\n\u001b[0;32m   2892\u001b[0m         \u001b[1;32mif\u001b[0m \u001b[0mcom\u001b[0m\u001b[1;33m.\u001b[0m\u001b[0mis_bool_indexer\u001b[0m\u001b[1;33m(\u001b[0m\u001b[0mkey\u001b[0m\u001b[1;33m)\u001b[0m\u001b[1;33m:\u001b[0m\u001b[1;33m\u001b[0m\u001b[1;33m\u001b[0m\u001b[0m\n\u001b[1;32m-> 2893\u001b[1;33m             \u001b[1;32mreturn\u001b[0m \u001b[0mself\u001b[0m\u001b[1;33m.\u001b[0m\u001b[0m_getitem_bool_array\u001b[0m\u001b[1;33m(\u001b[0m\u001b[0mkey\u001b[0m\u001b[1;33m)\u001b[0m\u001b[1;33m\u001b[0m\u001b[1;33m\u001b[0m\u001b[0m\n\u001b[0m\u001b[0;32m   2894\u001b[0m \u001b[1;33m\u001b[0m\u001b[0m\n\u001b[0;32m   2895\u001b[0m         \u001b[1;31m# We are left with two options: a single key, and a collection of keys,\u001b[0m\u001b[1;33m\u001b[0m\u001b[1;33m\u001b[0m\u001b[1;33m\u001b[0m\u001b[0m\n",
      "\u001b[1;32m~\\anaconda3\\envs\\DataScience\\lib\\site-packages\\pandas\\core\\frame.py\u001b[0m in \u001b[0;36m_getitem_bool_array\u001b[1;34m(self, key)\u001b[0m\n\u001b[0;32m   2943\u001b[0m         \u001b[1;31m# check_bool_indexer will throw exception if Series key cannot\u001b[0m\u001b[1;33m\u001b[0m\u001b[1;33m\u001b[0m\u001b[1;33m\u001b[0m\u001b[0m\n\u001b[0;32m   2944\u001b[0m         \u001b[1;31m# be reindexed to match DataFrame rows\u001b[0m\u001b[1;33m\u001b[0m\u001b[1;33m\u001b[0m\u001b[1;33m\u001b[0m\u001b[0m\n\u001b[1;32m-> 2945\u001b[1;33m         \u001b[0mkey\u001b[0m \u001b[1;33m=\u001b[0m \u001b[0mcheck_bool_indexer\u001b[0m\u001b[1;33m(\u001b[0m\u001b[0mself\u001b[0m\u001b[1;33m.\u001b[0m\u001b[0mindex\u001b[0m\u001b[1;33m,\u001b[0m \u001b[0mkey\u001b[0m\u001b[1;33m)\u001b[0m\u001b[1;33m\u001b[0m\u001b[1;33m\u001b[0m\u001b[0m\n\u001b[0m\u001b[0;32m   2946\u001b[0m         \u001b[0mindexer\u001b[0m \u001b[1;33m=\u001b[0m \u001b[0mkey\u001b[0m\u001b[1;33m.\u001b[0m\u001b[0mnonzero\u001b[0m\u001b[1;33m(\u001b[0m\u001b[1;33m)\u001b[0m\u001b[1;33m[\u001b[0m\u001b[1;36m0\u001b[0m\u001b[1;33m]\u001b[0m\u001b[1;33m\u001b[0m\u001b[1;33m\u001b[0m\u001b[0m\n\u001b[0;32m   2947\u001b[0m         \u001b[1;32mreturn\u001b[0m \u001b[0mself\u001b[0m\u001b[1;33m.\u001b[0m\u001b[0m_take_with_is_copy\u001b[0m\u001b[1;33m(\u001b[0m\u001b[0mindexer\u001b[0m\u001b[1;33m,\u001b[0m \u001b[0maxis\u001b[0m\u001b[1;33m=\u001b[0m\u001b[1;36m0\u001b[0m\u001b[1;33m)\u001b[0m\u001b[1;33m\u001b[0m\u001b[1;33m\u001b[0m\u001b[0m\n",
      "\u001b[1;32m~\\anaconda3\\envs\\DataScience\\lib\\site-packages\\pandas\\core\\indexing.py\u001b[0m in \u001b[0;36mcheck_bool_indexer\u001b[1;34m(index, key)\u001b[0m\n\u001b[0;32m   2182\u001b[0m         \u001b[0mmask\u001b[0m \u001b[1;33m=\u001b[0m \u001b[0misna\u001b[0m\u001b[1;33m(\u001b[0m\u001b[0mresult\u001b[0m\u001b[1;33m.\u001b[0m\u001b[0m_values\u001b[0m\u001b[1;33m)\u001b[0m\u001b[1;33m\u001b[0m\u001b[1;33m\u001b[0m\u001b[0m\n\u001b[0;32m   2183\u001b[0m         \u001b[1;32mif\u001b[0m \u001b[0mmask\u001b[0m\u001b[1;33m.\u001b[0m\u001b[0many\u001b[0m\u001b[1;33m(\u001b[0m\u001b[1;33m)\u001b[0m\u001b[1;33m:\u001b[0m\u001b[1;33m\u001b[0m\u001b[1;33m\u001b[0m\u001b[0m\n\u001b[1;32m-> 2184\u001b[1;33m             raise IndexingError(\n\u001b[0m\u001b[0;32m   2185\u001b[0m                 \u001b[1;34m\"Unalignable boolean Series provided as \"\u001b[0m\u001b[1;33m\u001b[0m\u001b[1;33m\u001b[0m\u001b[0m\n\u001b[0;32m   2186\u001b[0m                 \u001b[1;34m\"indexer (index of the boolean Series and of \"\u001b[0m\u001b[1;33m\u001b[0m\u001b[1;33m\u001b[0m\u001b[0m\n",
      "\u001b[1;31mIndexingError\u001b[0m: Unalignable boolean Series provided as indexer (index of the boolean Series and of the indexed object do not match)."
     ]
    }
   ],
   "source": [
    "lis = []\n",
    "for i in lst:\n",
    "    purcat = new_set[new_set.event_type=='purchase'][new_set.category_code==str(i)].event_type.count()\n",
    "    view = dataset[new_set.event_type=='view'][new_set.category_code==str(i)].event_type.count()\n",
    "    print(purcat/view)\n",
    "    res = purcat/view\n",
    "    lis.append(res)"
   ]
  },
  {
   "cell_type": "code",
   "execution_count": null,
   "metadata": {},
   "outputs": [],
   "source": [
    "lst\n",
    "lis"
   ]
  },
  {
   "cell_type": "code",
   "execution_count": null,
   "metadata": {},
   "outputs": [],
   "source": [
    "dictionary = dict(zip(lst,lis))"
   ]
  },
  {
   "cell_type": "code",
   "execution_count": null,
   "metadata": {},
   "outputs": [],
   "source": [
    "sorted_d = dict( sorted(dictionary.items(), key=operator.itemgetter(1),reverse=True))\n",
    "sorted_d\n",
    "#conversion rate of each category"
   ]
  },
  {
   "cell_type": "code",
   "execution_count": null,
   "metadata": {},
   "outputs": [],
   "source": []
  },
  {
   "cell_type": "markdown",
   "metadata": {},
   "source": [
    "### QR7"
   ]
  },
  {
   "cell_type": "markdown",
   "metadata": {},
   "source": [
    "The Pareto principle states that for many outcomes roughly 80% of consequences come from 20% of the causes. Also known as 80/20 rule, in e-commerce simply means that most of your business, around 80%, likely comes from about 20% of your customers.\n",
    "1) Prove that the pareto principle applies to your store."
   ]
  },
  {
   "cell_type": "markdown",
   "metadata": {},
   "source": [
    "##### 1) Prove that the pareto principle applies to your store."
   ]
  },
  {
   "cell_type": "code",
   "execution_count": 55,
   "metadata": {},
   "outputs": [],
   "source": [
    "pur_dataset=dataset[cat_dataset.event_type==\"purchase\"]"
   ]
  },
  {
   "cell_type": "code",
   "execution_count": 56,
   "metadata": {
    "collapsed": true
   },
   "outputs": [
    {
     "data": {
      "text/plain": [
       "139494.0"
      ]
     },
     "execution_count": 56,
     "metadata": {},
     "output_type": "execute_result"
    }
   ],
   "source": [
    "(len(pur_dataset.groupby([\"user_id\"]).user_id.count().sort_values(ascending=False))/100)*20\n",
    "\n",
    "#20% of all the customers"
   ]
  },
  {
   "cell_type": "code",
   "execution_count": 57,
   "metadata": {
    "collapsed": true
   },
   "outputs": [
    {
     "data": {
      "text/plain": [
       "user_id\n",
       "512386086    344153.29\n",
       "515384420    303144.24\n",
       "513117637    266331.24\n",
       "519267944    265569.52\n",
       "518514099    203986.07\n",
       "               ...    \n",
       "567111546       860.41\n",
       "546982605       860.41\n",
       "537925505       860.38\n",
       "533288196       860.36\n",
       "513601897       860.35\n",
       "Name: price, Length: 139494, dtype: float64"
      ]
     },
     "execution_count": 57,
     "metadata": {},
     "output_type": "execute_result"
    }
   ],
   "source": [
    "#20% of the costumers who spend the most\n",
    "#(not directly correlated to the question but just to get an idea of how much they spend)\n",
    "pur_dataset.groupby([\"user_id\"]).price.sum().sort_values(ascending=False).head(139494)"
   ]
  },
  {
   "cell_type": "code",
   "execution_count": 58,
   "metadata": {
    "collapsed": true
   },
   "outputs": [
    {
     "data": {
      "text/plain": [
       "404121914.2159998"
      ]
     },
     "execution_count": 58,
     "metadata": {},
     "output_type": "execute_result"
    }
   ],
   "source": [
    "#80%total profit\n",
    "(pur_dataset.price.sum()/100)*80"
   ]
  },
  {
   "cell_type": "code",
   "execution_count": 59,
   "metadata": {
    "collapsed": true
   },
   "outputs": [
    {
     "data": {
      "text/plain": [
       "364222233.810022"
      ]
     },
     "execution_count": 59,
     "metadata": {},
     "output_type": "execute_result"
    }
   ],
   "source": [
    "#how much of the \"20% of the costumers who spend the most\" have spent in total\n",
    "sum(pur_dataset.groupby([\"user_id\"]).price.sum().sort_values(ascending=False).head(139494))"
   ]
  },
  {
   "cell_type": "code",
   "execution_count": 60,
   "metadata": {
    "collapsed": true
   },
   "outputs": [
    {
     "data": {
      "text/plain": [
       "72.10145671345073"
      ]
     },
     "execution_count": 60,
     "metadata": {},
     "output_type": "execute_result"
    }
   ],
   "source": [
    "perc_profit_twenty=100*sum(pur_dataset.groupby([\"user_id\"]).price.sum().sort_values(ascending=False).head(139494))/pur_dataset.price.sum()\n",
    "perc_profit_twenty"
   ]
  },
  {
   "cell_type": "markdown",
   "metadata": {},
   "source": [
    "in conclusion 72% of the income comes from about 20% of the customers. we can say that the pareto's principle is approximately satisfied."
   ]
  }
 ],
 "metadata": {
  "kernelspec": {
   "display_name": "Python 3",
   "language": "python",
   "name": "python3"
  },
  "language_info": {
   "codemirror_mode": {
    "name": "ipython",
    "version": 3
   },
   "file_extension": ".py",
   "mimetype": "text/x-python",
   "name": "python",
   "nbconvert_exporter": "python",
   "pygments_lexer": "ipython3",
   "version": "3.8.5"
  }
 },
 "nbformat": 4,
 "nbformat_minor": 4
}
